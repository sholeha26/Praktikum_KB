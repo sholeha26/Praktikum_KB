{
 "cells": [
  {
   "cell_type": "markdown",
   "id": "f55da6ae",
   "metadata": {},
   "source": [
    "# DEEP LEARNING"
   ]
  },
  {
   "cell_type": "markdown",
   "id": "773c1171",
   "metadata": {},
   "source": [
    "import library"
   ]
  },
  {
   "cell_type": "code",
   "execution_count": 70,
   "id": "11e08444",
   "metadata": {},
   "outputs": [],
   "source": [
    "import tensorflow as tf\n",
    "import numpy as np\n",
    "import pandas as pd\n",
    "import matplotlib.pyplot as plt\n",
    "from tensorflow.keras.utils import to_categorical\n",
    "from sklearn.model_selection import train_test_split\n",
    "from sklearn.preprocessing import StandardScaler"
   ]
  },
  {
   "cell_type": "markdown",
   "id": "fabb6769",
   "metadata": {},
   "source": [
    "mengambil dataset"
   ]
  },
  {
   "cell_type": "code",
   "execution_count": 71,
   "id": "7226ae82",
   "metadata": {},
   "outputs": [],
   "source": [
    "dataset = pd.read_csv('data.csv')"
   ]
  },
  {
   "cell_type": "markdown",
   "id": "2e11cb0e",
   "metadata": {},
   "source": [
    "menampilkan kolom"
   ]
  },
  {
   "cell_type": "code",
   "execution_count": 72,
   "id": "fcc032e7",
   "metadata": {},
   "outputs": [
    {
     "data": {
      "text/plain": [
       "Index(['Unnamed: 0', 'acousticness', 'danceability', 'duration_ms', 'energy',\n",
       "       'instrumentalness', 'key', 'liveness', 'loudness', 'mode',\n",
       "       'speechiness', 'tempo', 'time_signature', 'valence', 'target',\n",
       "       'song_title', 'artist'],\n",
       "      dtype='object')"
      ]
     },
     "execution_count": 72,
     "metadata": {},
     "output_type": "execute_result"
    }
   ],
   "source": [
    "dataset.columns"
   ]
  },
  {
   "cell_type": "code",
   "execution_count": 73,
   "id": "df77cea7",
   "metadata": {},
   "outputs": [
    {
     "data": {
      "text/html": [
       "<div>\n",
       "<style scoped>\n",
       "    .dataframe tbody tr th:only-of-type {\n",
       "        vertical-align: middle;\n",
       "    }\n",
       "\n",
       "    .dataframe tbody tr th {\n",
       "        vertical-align: top;\n",
       "    }\n",
       "\n",
       "    .dataframe thead th {\n",
       "        text-align: right;\n",
       "    }\n",
       "</style>\n",
       "<table border=\"1\" class=\"dataframe\">\n",
       "  <thead>\n",
       "    <tr style=\"text-align: right;\">\n",
       "      <th></th>\n",
       "      <th>Unnamed: 0</th>\n",
       "      <th>acousticness</th>\n",
       "      <th>danceability</th>\n",
       "      <th>duration_ms</th>\n",
       "      <th>energy</th>\n",
       "      <th>instrumentalness</th>\n",
       "      <th>key</th>\n",
       "      <th>liveness</th>\n",
       "      <th>loudness</th>\n",
       "      <th>mode</th>\n",
       "      <th>speechiness</th>\n",
       "      <th>tempo</th>\n",
       "      <th>time_signature</th>\n",
       "      <th>valence</th>\n",
       "      <th>target</th>\n",
       "      <th>song_title</th>\n",
       "      <th>artist</th>\n",
       "    </tr>\n",
       "  </thead>\n",
       "  <tbody>\n",
       "    <tr>\n",
       "      <th>0</th>\n",
       "      <td>0</td>\n",
       "      <td>0.01020</td>\n",
       "      <td>0.833</td>\n",
       "      <td>204600</td>\n",
       "      <td>0.434</td>\n",
       "      <td>0.021900</td>\n",
       "      <td>2</td>\n",
       "      <td>0.1650</td>\n",
       "      <td>-8.795</td>\n",
       "      <td>1</td>\n",
       "      <td>0.4310</td>\n",
       "      <td>150.062</td>\n",
       "      <td>4.0</td>\n",
       "      <td>0.286</td>\n",
       "      <td>1</td>\n",
       "      <td>Mask Off</td>\n",
       "      <td>Future</td>\n",
       "    </tr>\n",
       "    <tr>\n",
       "      <th>1</th>\n",
       "      <td>1</td>\n",
       "      <td>0.19900</td>\n",
       "      <td>0.743</td>\n",
       "      <td>326933</td>\n",
       "      <td>0.359</td>\n",
       "      <td>0.006110</td>\n",
       "      <td>1</td>\n",
       "      <td>0.1370</td>\n",
       "      <td>-10.401</td>\n",
       "      <td>1</td>\n",
       "      <td>0.0794</td>\n",
       "      <td>160.083</td>\n",
       "      <td>4.0</td>\n",
       "      <td>0.588</td>\n",
       "      <td>1</td>\n",
       "      <td>Redbone</td>\n",
       "      <td>Childish Gambino</td>\n",
       "    </tr>\n",
       "    <tr>\n",
       "      <th>2</th>\n",
       "      <td>2</td>\n",
       "      <td>0.03440</td>\n",
       "      <td>0.838</td>\n",
       "      <td>185707</td>\n",
       "      <td>0.412</td>\n",
       "      <td>0.000234</td>\n",
       "      <td>2</td>\n",
       "      <td>0.1590</td>\n",
       "      <td>-7.148</td>\n",
       "      <td>1</td>\n",
       "      <td>0.2890</td>\n",
       "      <td>75.044</td>\n",
       "      <td>4.0</td>\n",
       "      <td>0.173</td>\n",
       "      <td>1</td>\n",
       "      <td>Xanny Family</td>\n",
       "      <td>Future</td>\n",
       "    </tr>\n",
       "    <tr>\n",
       "      <th>3</th>\n",
       "      <td>3</td>\n",
       "      <td>0.60400</td>\n",
       "      <td>0.494</td>\n",
       "      <td>199413</td>\n",
       "      <td>0.338</td>\n",
       "      <td>0.510000</td>\n",
       "      <td>5</td>\n",
       "      <td>0.0922</td>\n",
       "      <td>-15.236</td>\n",
       "      <td>1</td>\n",
       "      <td>0.0261</td>\n",
       "      <td>86.468</td>\n",
       "      <td>4.0</td>\n",
       "      <td>0.230</td>\n",
       "      <td>1</td>\n",
       "      <td>Master Of None</td>\n",
       "      <td>Beach House</td>\n",
       "    </tr>\n",
       "    <tr>\n",
       "      <th>4</th>\n",
       "      <td>4</td>\n",
       "      <td>0.18000</td>\n",
       "      <td>0.678</td>\n",
       "      <td>392893</td>\n",
       "      <td>0.561</td>\n",
       "      <td>0.512000</td>\n",
       "      <td>5</td>\n",
       "      <td>0.4390</td>\n",
       "      <td>-11.648</td>\n",
       "      <td>0</td>\n",
       "      <td>0.0694</td>\n",
       "      <td>174.004</td>\n",
       "      <td>4.0</td>\n",
       "      <td>0.904</td>\n",
       "      <td>1</td>\n",
       "      <td>Parallel Lines</td>\n",
       "      <td>Junior Boys</td>\n",
       "    </tr>\n",
       "    <tr>\n",
       "      <th>5</th>\n",
       "      <td>5</td>\n",
       "      <td>0.00479</td>\n",
       "      <td>0.804</td>\n",
       "      <td>251333</td>\n",
       "      <td>0.560</td>\n",
       "      <td>0.000000</td>\n",
       "      <td>8</td>\n",
       "      <td>0.1640</td>\n",
       "      <td>-6.682</td>\n",
       "      <td>1</td>\n",
       "      <td>0.1850</td>\n",
       "      <td>85.023</td>\n",
       "      <td>4.0</td>\n",
       "      <td>0.264</td>\n",
       "      <td>1</td>\n",
       "      <td>Sneakin’</td>\n",
       "      <td>Drake</td>\n",
       "    </tr>\n",
       "    <tr>\n",
       "      <th>6</th>\n",
       "      <td>6</td>\n",
       "      <td>0.01450</td>\n",
       "      <td>0.739</td>\n",
       "      <td>241400</td>\n",
       "      <td>0.472</td>\n",
       "      <td>0.000007</td>\n",
       "      <td>1</td>\n",
       "      <td>0.2070</td>\n",
       "      <td>-11.204</td>\n",
       "      <td>1</td>\n",
       "      <td>0.1560</td>\n",
       "      <td>80.030</td>\n",
       "      <td>4.0</td>\n",
       "      <td>0.308</td>\n",
       "      <td>1</td>\n",
       "      <td>Childs Play</td>\n",
       "      <td>Drake</td>\n",
       "    </tr>\n",
       "    <tr>\n",
       "      <th>7</th>\n",
       "      <td>7</td>\n",
       "      <td>0.02020</td>\n",
       "      <td>0.266</td>\n",
       "      <td>349667</td>\n",
       "      <td>0.348</td>\n",
       "      <td>0.664000</td>\n",
       "      <td>10</td>\n",
       "      <td>0.1600</td>\n",
       "      <td>-11.609</td>\n",
       "      <td>0</td>\n",
       "      <td>0.0371</td>\n",
       "      <td>144.154</td>\n",
       "      <td>4.0</td>\n",
       "      <td>0.393</td>\n",
       "      <td>1</td>\n",
       "      <td>Gyöngyhajú lány</td>\n",
       "      <td>Omega</td>\n",
       "    </tr>\n",
       "    <tr>\n",
       "      <th>8</th>\n",
       "      <td>8</td>\n",
       "      <td>0.04810</td>\n",
       "      <td>0.603</td>\n",
       "      <td>202853</td>\n",
       "      <td>0.944</td>\n",
       "      <td>0.000000</td>\n",
       "      <td>11</td>\n",
       "      <td>0.3420</td>\n",
       "      <td>-3.626</td>\n",
       "      <td>0</td>\n",
       "      <td>0.3470</td>\n",
       "      <td>130.035</td>\n",
       "      <td>4.0</td>\n",
       "      <td>0.398</td>\n",
       "      <td>1</td>\n",
       "      <td>I've Seen Footage</td>\n",
       "      <td>Death Grips</td>\n",
       "    </tr>\n",
       "    <tr>\n",
       "      <th>9</th>\n",
       "      <td>9</td>\n",
       "      <td>0.00208</td>\n",
       "      <td>0.836</td>\n",
       "      <td>226840</td>\n",
       "      <td>0.603</td>\n",
       "      <td>0.000000</td>\n",
       "      <td>7</td>\n",
       "      <td>0.5710</td>\n",
       "      <td>-7.792</td>\n",
       "      <td>1</td>\n",
       "      <td>0.2370</td>\n",
       "      <td>99.994</td>\n",
       "      <td>4.0</td>\n",
       "      <td>0.386</td>\n",
       "      <td>1</td>\n",
       "      <td>Digital Animal</td>\n",
       "      <td>Honey Claws</td>\n",
       "    </tr>\n",
       "  </tbody>\n",
       "</table>\n",
       "</div>"
      ],
      "text/plain": [
       "   Unnamed: 0  acousticness  danceability  duration_ms  energy  \\\n",
       "0           0       0.01020         0.833       204600   0.434   \n",
       "1           1       0.19900         0.743       326933   0.359   \n",
       "2           2       0.03440         0.838       185707   0.412   \n",
       "3           3       0.60400         0.494       199413   0.338   \n",
       "4           4       0.18000         0.678       392893   0.561   \n",
       "5           5       0.00479         0.804       251333   0.560   \n",
       "6           6       0.01450         0.739       241400   0.472   \n",
       "7           7       0.02020         0.266       349667   0.348   \n",
       "8           8       0.04810         0.603       202853   0.944   \n",
       "9           9       0.00208         0.836       226840   0.603   \n",
       "\n",
       "   instrumentalness  key  liveness  loudness  mode  speechiness    tempo  \\\n",
       "0          0.021900    2    0.1650    -8.795     1       0.4310  150.062   \n",
       "1          0.006110    1    0.1370   -10.401     1       0.0794  160.083   \n",
       "2          0.000234    2    0.1590    -7.148     1       0.2890   75.044   \n",
       "3          0.510000    5    0.0922   -15.236     1       0.0261   86.468   \n",
       "4          0.512000    5    0.4390   -11.648     0       0.0694  174.004   \n",
       "5          0.000000    8    0.1640    -6.682     1       0.1850   85.023   \n",
       "6          0.000007    1    0.2070   -11.204     1       0.1560   80.030   \n",
       "7          0.664000   10    0.1600   -11.609     0       0.0371  144.154   \n",
       "8          0.000000   11    0.3420    -3.626     0       0.3470  130.035   \n",
       "9          0.000000    7    0.5710    -7.792     1       0.2370   99.994   \n",
       "\n",
       "   time_signature  valence  target         song_title            artist  \n",
       "0             4.0    0.286       1           Mask Off            Future  \n",
       "1             4.0    0.588       1            Redbone  Childish Gambino  \n",
       "2             4.0    0.173       1       Xanny Family            Future  \n",
       "3             4.0    0.230       1     Master Of None       Beach House  \n",
       "4             4.0    0.904       1     Parallel Lines       Junior Boys  \n",
       "5             4.0    0.264       1           Sneakin’             Drake  \n",
       "6             4.0    0.308       1        Childs Play             Drake  \n",
       "7             4.0    0.393       1    Gyöngyhajú lány             Omega  \n",
       "8             4.0    0.398       1  I've Seen Footage       Death Grips  \n",
       "9             4.0    0.386       1     Digital Animal       Honey Claws  "
      ]
     },
     "execution_count": 73,
     "metadata": {},
     "output_type": "execute_result"
    }
   ],
   "source": [
    "dataset.head(10)"
   ]
  },
  {
   "cell_type": "markdown",
   "id": "9a7787a6",
   "metadata": {},
   "source": [
    "deklarasi data x dan y"
   ]
  },
  {
   "cell_type": "code",
   "execution_count": 74,
   "id": "6c9bb5b8",
   "metadata": {},
   "outputs": [],
   "source": [
    "X = dataset[['Unnamed: 0', 'acousticness', 'danceability', 'duration_ms', 'energy',\n",
    "       'instrumentalness', 'key','liveness', 'loudness', 'mode',\n",
    "       'speechiness', 'tempo', 'valence', 'target']]\n",
    "Y = dataset['time_signature']"
   ]
  },
  {
   "cell_type": "markdown",
   "id": "824744cf",
   "metadata": {},
   "source": [
    "membagi data menjadi 80:20"
   ]
  },
  {
   "cell_type": "code",
   "execution_count": 75,
   "id": "09e0268a",
   "metadata": {},
   "outputs": [],
   "source": [
    "x_train, x_test, y_train, y_test = train_test_split(X, Y, random_state=0, test_size=.2)"
   ]
  },
  {
   "cell_type": "markdown",
   "id": "a991bf7e",
   "metadata": {},
   "source": [
    "melihat data unique di y_test"
   ]
  },
  {
   "cell_type": "code",
   "execution_count": 76,
   "id": "d138c0c8",
   "metadata": {},
   "outputs": [
    {
     "data": {
      "text/plain": [
       "array([3., 4., 5.])"
      ]
     },
     "execution_count": 76,
     "metadata": {},
     "output_type": "execute_result"
    }
   ],
   "source": [
    "np.unique(y_test)"
   ]
  },
  {
   "cell_type": "markdown",
   "id": "5d7167cf",
   "metadata": {},
   "source": [
    "melihat shape dari x_train dan x_test"
   ]
  },
  {
   "cell_type": "code",
   "execution_count": 77,
   "id": "1757a712",
   "metadata": {},
   "outputs": [
    {
     "data": {
      "text/plain": [
       "(1613, 14)"
      ]
     },
     "execution_count": 77,
     "metadata": {},
     "output_type": "execute_result"
    }
   ],
   "source": [
    "x_train.shape"
   ]
  },
  {
   "cell_type": "code",
   "execution_count": 78,
   "id": "d712ebdb",
   "metadata": {},
   "outputs": [
    {
     "data": {
      "text/plain": [
       "(404, 14)"
      ]
     },
     "execution_count": 78,
     "metadata": {},
     "output_type": "execute_result"
    }
   ],
   "source": [
    "x_test.shape"
   ]
  },
  {
   "cell_type": "markdown",
   "id": "bfc1ce3c",
   "metadata": {},
   "source": [
    "deklarasi y_train dan y_test"
   ]
  },
  {
   "cell_type": "code",
   "execution_count": 79,
   "id": "31656778",
   "metadata": {},
   "outputs": [],
   "source": [
    "num_class = 12\n",
    "y_train = tf.keras.utils.to_categorical(y_train, num_class)\n",
    "y_test = tf.keras.utils.to_categorical(y_test, num_class)"
   ]
  },
  {
   "cell_type": "code",
   "execution_count": 80,
   "id": "08ba2514",
   "metadata": {},
   "outputs": [],
   "source": [
    "x_train = tf.reshape(x_train, [1613, 14])\n",
    "x_test = tf.reshape(x_test, [404, 14])"
   ]
  },
  {
   "cell_type": "markdown",
   "id": "ace43324",
   "metadata": {},
   "source": [
    "membuat model sequential"
   ]
  },
  {
   "cell_type": "code",
   "execution_count": 81,
   "id": "7b1ef9dc",
   "metadata": {},
   "outputs": [
    {
     "name": "stdout",
     "output_type": "stream",
     "text": [
      "Model: \"sequential_6\"\n",
      "_________________________________________________________________\n",
      " Layer (type)                Output Shape              Param #   \n",
      "=================================================================\n",
      " dense_12 (Dense)            (None, 16)                240       \n",
      "                                                                 \n",
      " dense_13 (Dense)            (None, 12)                204       \n",
      "                                                                 \n",
      "=================================================================\n",
      "Total params: 444\n",
      "Trainable params: 444\n",
      "Non-trainable params: 0\n",
      "_________________________________________________________________\n"
     ]
    }
   ],
   "source": [
    "model = tf.keras.Sequential([\n",
    "    tf.keras.layers.Dense(16, activation='relu', input_dim=14),\n",
    "    tf.keras.layers.Dense(num_class, activation='softmax')\n",
    "])\n",
    "model.summary()"
   ]
  },
  {
   "cell_type": "markdown",
   "id": "1f7aaac5",
   "metadata": {},
   "source": [
    "optimalisasi dengan optimizer, model adam dan loss menggunakan categorical"
   ]
  },
  {
   "cell_type": "code",
   "execution_count": 82,
   "id": "03a6591f",
   "metadata": {},
   "outputs": [],
   "source": [
    "model.compile(\n",
    "    optimizer=tf.keras.optimizers.Adam(),\n",
    "    loss=tf.keras.losses.categorical_crossentropy,\n",
    "    metrics=['accuracy']\n",
    ")"
   ]
  },
  {
   "cell_type": "markdown",
   "id": "c0ac9549",
   "metadata": {},
   "source": [
    "training data dengan epochs(iterasi) sebanyak 10 dan steps per epoch sebanyak 25"
   ]
  },
  {
   "cell_type": "code",
   "execution_count": 83,
   "id": "c9c84326",
   "metadata": {},
   "outputs": [
    {
     "name": "stdout",
     "output_type": "stream",
     "text": [
      "Epoch 1/10\n",
      "25/25 [==============================] - 1s 11ms/step - loss: 27862.8633 - accuracy: 0.0000e+00 - val_loss: 8324.1875 - val_accuracy: 0.0000e+00\n",
      "Epoch 2/10\n",
      "25/25 [==============================] - 0s 5ms/step - loss: 7312.4639 - accuracy: 0.8611 - val_loss: 6131.4380 - val_accuracy: 0.9381\n",
      "Epoch 3/10\n",
      "25/25 [==============================] - 0s 4ms/step - loss: 6530.7886 - accuracy: 0.9374 - val_loss: 5249.1060 - val_accuracy: 0.9381\n",
      "Epoch 4/10\n",
      "25/25 [==============================] - 0s 4ms/step - loss: 5539.0513 - accuracy: 0.9374 - val_loss: 4367.0771 - val_accuracy: 0.9381\n",
      "Epoch 5/10\n",
      "25/25 [==============================] - 0s 4ms/step - loss: 4541.7144 - accuracy: 0.9374 - val_loss: 3384.4106 - val_accuracy: 0.9356\n",
      "Epoch 6/10\n",
      "25/25 [==============================] - 0s 4ms/step - loss: 3565.8516 - accuracy: 0.8841 - val_loss: 2526.4390 - val_accuracy: 0.9035\n",
      "Epoch 7/10\n",
      "25/25 [==============================] - 0s 5ms/step - loss: 2670.7981 - accuracy: 0.8983 - val_loss: 1669.3646 - val_accuracy: 0.9282\n",
      "Epoch 8/10\n",
      "25/25 [==============================] - 0s 5ms/step - loss: 1866.9027 - accuracy: 0.8704 - val_loss: 1152.4811 - val_accuracy: 0.9307\n",
      "Epoch 9/10\n",
      "25/25 [==============================] - 0s 6ms/step - loss: 1541.0591 - accuracy: 0.8859 - val_loss: 1003.3357 - val_accuracy: 0.9282\n",
      "Epoch 10/10\n",
      "25/25 [==============================] - 0s 5ms/step - loss: 1362.7103 - accuracy: 0.8692 - val_loss: 877.6608 - val_accuracy: 0.8812\n"
     ]
    }
   ],
   "source": [
    "history = model.fit(\n",
    "    x = x_train,y =  y_train,\n",
    "    epochs = 10, \n",
    "    steps_per_epoch = 25,\n",
    "    #verbose = 2\n",
    "    validation_data=(x_test, y_test)\n",
    ")"
   ]
  },
  {
   "cell_type": "code",
   "execution_count": 84,
   "id": "22770585",
   "metadata": {},
   "outputs": [
    {
     "data": {
      "image/png": "[encoded data removed]",
      "text/plain": [
       "<Figure size 500x500 with 1 Axes>"
      ]
     },
     "metadata": {},
     "output_type": "display_data"
    }
   ],
   "source": [
    "plt.figure(1, figsize=(5,5))\n",
    "plt.plot(range(len(history.history['accuracy'])),\n",
    "         history.history['accuracy'],\n",
    "         color='green',\n",
    "         label='Data Latih'\n",
    ")\n",
    "plt.plot(range(len(history.history['val_accuracy'])),\n",
    "         history.history['val_accuracy'],\n",
    "         color='blue',\n",
    "         label='Data Validasi',\n",
    "         \n",
    ")\n",
    "plt.legend(bbox_to_anchor=(1, 1.02), loc='upper left')\n",
    "plt.show()"
   ]
  },
  {
   "cell_type": "code",
   "execution_count": null,
   "id": "bbe6b3bc",
   "metadata": {},
   "outputs": [],
   "source": []
  }
 ],
 "metadata": {
  "kernelspec": {
   "display_name": "Python 3 (ipykernel)",
   "language": "python",
   "name": "python3"
  },
  "language_info": {
   "codemirror_mode": {
    "name": "ipython",
    "version": 3
   },
   "file_extension": ".py",
   "mimetype": "text/x-python",
   "name": "python",
   "nbconvert_exporter": "python",
   "pygments_lexer": "ipython3",
   "version": "3.10.7"
  }
 },
 "nbformat": 4,
 "nbformat_minor": 5
}
