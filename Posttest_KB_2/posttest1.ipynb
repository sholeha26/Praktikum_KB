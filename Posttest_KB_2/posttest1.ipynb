{
 "cells": [
  {
   "cell_type": "markdown",
   "id": "c0e38e09",
   "metadata": {},
   "source": [
    "#POSTTEST1\n",
    "import library pandas"
   ]
  },
  {
   "cell_type": "code",
   "execution_count": 2,
   "id": "7c883ca1",
   "metadata": {},
   "outputs": [],
   "source": [
    "import pandas as pd"
   ]
  },
  {
   "cell_type": "markdown",
   "id": "a3181215",
   "metadata": {},
   "source": [
    "mengambil dataset dengan perintag pd.read_csv yang bernama salaries_cyber.csv"
   ]
  },
  {
   "cell_type": "code",
   "execution_count": 7,
   "id": "93e02fa8",
   "metadata": {},
   "outputs": [],
   "source": [
    "dataset = pd.read_csv(\"salaries_cyber.csv\")"
   ]
  },
  {
   "cell_type": "markdown",
   "id": "e675db45",
   "metadata": {},
   "source": [
    "dataset.info(), merupakan perintah untuk mengambil dataset jumlah record, nama attribute, jumlah attribute dengan tipe objek, jumlah attribute dengan tipe angka, jumlah attribute yang memiliki nilai null"
   ]
  },
  {
   "cell_type": "code",
   "execution_count": 23,
   "id": "0e824d14",
   "metadata": {},
   "outputs": [
    {
     "name": "stdout",
     "output_type": "stream",
     "text": [
      "<class 'pandas.core.frame.DataFrame'>\n",
      "RangeIndex: 1247 entries, 0 to 1246\n",
      "Data columns (total 11 columns):\n",
      " #   Column              Non-Null Count  Dtype \n",
      "---  ------              --------------  ----- \n",
      " 0   work_year           1247 non-null   int64 \n",
      " 1   experience_level    1247 non-null   object\n",
      " 2   employment_type     1247 non-null   object\n",
      " 3   job_title           1247 non-null   object\n",
      " 4   salary              1247 non-null   int64 \n",
      " 5   salary_currency     1247 non-null   object\n",
      " 6   salary_in_usd       1247 non-null   int64 \n",
      " 7   employee_residence  1247 non-null   object\n",
      " 8   remote_ratio        1247 non-null   int64 \n",
      " 9   company_location    1247 non-null   object\n",
      " 10  company_size        1247 non-null   object\n",
      "dtypes: int64(4), object(7)\n",
      "memory usage: 107.3+ KB\n"
     ]
    }
   ],
   "source": [
    "dataset.info()"
   ]
  },
  {
   "cell_type": "markdown",
   "id": "2375b784",
   "metadata": {},
   "source": [
    "memasukkan dictionary dengan key sesuai nama informasi"
   ]
  },
  {
   "cell_type": "code",
   "execution_count": 12,
   "id": "f3dc19ed",
   "metadata": {},
   "outputs": [
    {
     "name": "stdout",
     "output_type": "stream",
     "text": [
      "0. work_year\n",
      "1. experience_level\n",
      "2. employment_type\n",
      "3. job_title\n",
      "4. salary\n",
      "5. salary_currency\n",
      "6. salary_in_usd\n",
      "7. employee_residence\n",
      "8. remote_ratio\n",
      "9. company_location\n",
      "10. company_size\n"
     ]
    }
   ],
   "source": [
    "for index, item in enumerate(dataset):\n",
    "    print(f\"{index}. {item}\")"
   ]
  },
  {
   "cell_type": "markdown",
   "id": "7502ba88",
   "metadata": {},
   "source": [
    "perintah dataset.describe(), untuk menampilkan rata-rata, standar deviasi, nilai minimum, nilai maksimum, Q1, Q2, dan Q3 dari attribute bertipe angka"
   ]
  },
  {
   "cell_type": "code",
   "execution_count": 4,
   "id": "f6c78ddc",
   "metadata": {},
   "outputs": [
    {
     "data": {
      "text/html": [
       "<div>\n",
       "<style scoped>\n",
       "    .dataframe tbody tr th:only-of-type {\n",
       "        vertical-align: middle;\n",
       "    }\n",
       "\n",
       "    .dataframe tbody tr th {\n",
       "        vertical-align: top;\n",
       "    }\n",
       "\n",
       "    .dataframe thead th {\n",
       "        text-align: right;\n",
       "    }\n",
       "</style>\n",
       "<table border=\"1\" class=\"dataframe\">\n",
       "  <thead>\n",
       "    <tr style=\"text-align: right;\">\n",
       "      <th></th>\n",
       "      <th>work_year</th>\n",
       "      <th>salary</th>\n",
       "      <th>salary_in_usd</th>\n",
       "      <th>remote_ratio</th>\n",
       "    </tr>\n",
       "  </thead>\n",
       "  <tbody>\n",
       "    <tr>\n",
       "      <th>count</th>\n",
       "      <td>1247.000000</td>\n",
       "      <td>1.247000e+03</td>\n",
       "      <td>1247.000000</td>\n",
       "      <td>1247.000000</td>\n",
       "    </tr>\n",
       "    <tr>\n",
       "      <th>mean</th>\n",
       "      <td>2021.316760</td>\n",
       "      <td>5.608525e+05</td>\n",
       "      <td>120278.218925</td>\n",
       "      <td>71.491580</td>\n",
       "    </tr>\n",
       "    <tr>\n",
       "      <th>std</th>\n",
       "      <td>0.715501</td>\n",
       "      <td>1.415944e+07</td>\n",
       "      <td>70291.394942</td>\n",
       "      <td>39.346851</td>\n",
       "    </tr>\n",
       "    <tr>\n",
       "      <th>min</th>\n",
       "      <td>2020.000000</td>\n",
       "      <td>1.740000e+03</td>\n",
       "      <td>2000.000000</td>\n",
       "      <td>0.000000</td>\n",
       "    </tr>\n",
       "    <tr>\n",
       "      <th>25%</th>\n",
       "      <td>2021.000000</td>\n",
       "      <td>7.975450e+04</td>\n",
       "      <td>74594.500000</td>\n",
       "      <td>50.000000</td>\n",
       "    </tr>\n",
       "    <tr>\n",
       "      <th>50%</th>\n",
       "      <td>2021.000000</td>\n",
       "      <td>1.200000e+05</td>\n",
       "      <td>110000.000000</td>\n",
       "      <td>100.000000</td>\n",
       "    </tr>\n",
       "    <tr>\n",
       "      <th>75%</th>\n",
       "      <td>2022.000000</td>\n",
       "      <td>1.600800e+05</td>\n",
       "      <td>150000.000000</td>\n",
       "      <td>100.000000</td>\n",
       "    </tr>\n",
       "    <tr>\n",
       "      <th>max</th>\n",
       "      <td>2022.000000</td>\n",
       "      <td>5.000000e+08</td>\n",
       "      <td>910991.000000</td>\n",
       "      <td>100.000000</td>\n",
       "    </tr>\n",
       "  </tbody>\n",
       "</table>\n",
       "</div>"
      ],
      "text/plain": [
       "         work_year        salary  salary_in_usd  remote_ratio\n",
       "count  1247.000000  1.247000e+03    1247.000000   1247.000000\n",
       "mean   2021.316760  5.608525e+05  120278.218925     71.491580\n",
       "std       0.715501  1.415944e+07   70291.394942     39.346851\n",
       "min    2020.000000  1.740000e+03    2000.000000      0.000000\n",
       "25%    2021.000000  7.975450e+04   74594.500000     50.000000\n",
       "50%    2021.000000  1.200000e+05  110000.000000    100.000000\n",
       "75%    2022.000000  1.600800e+05  150000.000000    100.000000\n",
       "max    2022.000000  5.000000e+08  910991.000000    100.000000"
      ]
     },
     "execution_count": 4,
     "metadata": {},
     "output_type": "execute_result"
    }
   ],
   "source": [
    "dataset.describe()"
   ]
  },
  {
   "cell_type": "markdown",
   "id": "b9ba16a5",
   "metadata": {},
   "source": [
    "perintah dataset.corr(), untuk menampilkan nilai korelasi attribute bertipe angka"
   ]
  },
  {
   "cell_type": "code",
   "execution_count": 29,
   "id": "e830aa14",
   "metadata": {},
   "outputs": [
    {
     "name": "stderr",
     "output_type": "stream",
     "text": [
      "C:\\Users\\USER\\AppData\\Local\\Temp\\ipykernel_10192\\2191645083.py:1: FutureWarning: The default value of numeric_only in DataFrame.corr is deprecated. In a future version, it will default to False. Select only valid columns or specify the value of numeric_only to silence this warning.\n",
      "  dataset.corr()\n"
     ]
    },
    {
     "data": {
      "text/html": [
       "<div>\n",
       "<style scoped>\n",
       "    .dataframe tbody tr th:only-of-type {\n",
       "        vertical-align: middle;\n",
       "    }\n",
       "\n",
       "    .dataframe tbody tr th {\n",
       "        vertical-align: top;\n",
       "    }\n",
       "\n",
       "    .dataframe thead th {\n",
       "        text-align: right;\n",
       "    }\n",
       "</style>\n",
       "<table border=\"1\" class=\"dataframe\">\n",
       "  <thead>\n",
       "    <tr style=\"text-align: right;\">\n",
       "      <th></th>\n",
       "      <th>work_year</th>\n",
       "      <th>salary</th>\n",
       "      <th>salary_in_usd</th>\n",
       "      <th>remote_ratio</th>\n",
       "    </tr>\n",
       "  </thead>\n",
       "  <tbody>\n",
       "    <tr>\n",
       "      <th>work_year</th>\n",
       "      <td>1.000000</td>\n",
       "      <td>0.027042</td>\n",
       "      <td>0.184246</td>\n",
       "      <td>0.135720</td>\n",
       "    </tr>\n",
       "    <tr>\n",
       "      <th>salary</th>\n",
       "      <td>0.027042</td>\n",
       "      <td>1.000000</td>\n",
       "      <td>-0.033166</td>\n",
       "      <td>0.019112</td>\n",
       "    </tr>\n",
       "    <tr>\n",
       "      <th>salary_in_usd</th>\n",
       "      <td>0.184246</td>\n",
       "      <td>-0.033166</td>\n",
       "      <td>1.000000</td>\n",
       "      <td>0.174523</td>\n",
       "    </tr>\n",
       "    <tr>\n",
       "      <th>remote_ratio</th>\n",
       "      <td>0.135720</td>\n",
       "      <td>0.019112</td>\n",
       "      <td>0.174523</td>\n",
       "      <td>1.000000</td>\n",
       "    </tr>\n",
       "  </tbody>\n",
       "</table>\n",
       "</div>"
      ],
      "text/plain": [
       "               work_year    salary  salary_in_usd  remote_ratio\n",
       "work_year       1.000000  0.027042       0.184246      0.135720\n",
       "salary          0.027042  1.000000      -0.033166      0.019112\n",
       "salary_in_usd   0.184246 -0.033166       1.000000      0.174523\n",
       "remote_ratio    0.135720  0.019112       0.174523      1.000000"
      ]
     },
     "execution_count": 29,
     "metadata": {},
     "output_type": "execute_result"
    }
   ],
   "source": [
    "dataset.corr()"
   ]
  },
  {
   "cell_type": "markdown",
   "id": "613b74d0",
   "metadata": {},
   "source": [
    "dataset1 = dataset['salary']*0.001\n",
    "dataset1.head(10)\n",
    "\n",
    "untuk menampilkan dataset berupa attribute salary yang bertipe angka menjadi desimal 3 angka dibelakang koma"
   ]
  },
  {
   "cell_type": "code",
   "execution_count": 19,
   "id": "e66a4a54",
   "metadata": {},
   "outputs": [
    {
     "name": "stdout",
     "output_type": "stream",
     "text": [
      "0        6.300\n",
      "1        9.500\n",
      "2        7.000\n",
      "3       25.000\n",
      "4       12.000\n",
      "         ...  \n",
      "1242    14.000\n",
      "1243     6.000\n",
      "1244    12.600\n",
      "1245     4.200\n",
      "1246     6.631\n",
      "Name: salary, Length: 1247, dtype: float64\n"
     ]
    }
   ],
   "source": [
    "dataset1 = dataset['salary']*0.0001\n",
    "print(dataset1)"
   ]
  },
  {
   "cell_type": "markdown",
   "id": "e573db67",
   "metadata": {},
   "source": [
    "dataset[['work_year','salary','salary_in_usd','remote_ratio']].head(10)\n",
    "untuk menampilkan 10 record pertama attribute yang bertipe angka"
   ]
  },
  {
   "cell_type": "code",
   "execution_count": 18,
   "id": "19065f7b",
   "metadata": {},
   "outputs": [
    {
     "data": {
      "text/html": [
       "<div>\n",
       "<style scoped>\n",
       "    .dataframe tbody tr th:only-of-type {\n",
       "        vertical-align: middle;\n",
       "    }\n",
       "\n",
       "    .dataframe tbody tr th {\n",
       "        vertical-align: top;\n",
       "    }\n",
       "\n",
       "    .dataframe thead th {\n",
       "        text-align: right;\n",
       "    }\n",
       "</style>\n",
       "<table border=\"1\" class=\"dataframe\">\n",
       "  <thead>\n",
       "    <tr style=\"text-align: right;\">\n",
       "      <th></th>\n",
       "      <th>work_year</th>\n",
       "      <th>salary</th>\n",
       "      <th>salary_in_usd</th>\n",
       "      <th>remote_ratio</th>\n",
       "    </tr>\n",
       "  </thead>\n",
       "  <tbody>\n",
       "    <tr>\n",
       "      <th>0</th>\n",
       "      <td>2022</td>\n",
       "      <td>63000</td>\n",
       "      <td>63000</td>\n",
       "      <td>50</td>\n",
       "    </tr>\n",
       "    <tr>\n",
       "      <th>1</th>\n",
       "      <td>2022</td>\n",
       "      <td>95000</td>\n",
       "      <td>95000</td>\n",
       "      <td>0</td>\n",
       "    </tr>\n",
       "    <tr>\n",
       "      <th>2</th>\n",
       "      <td>2022</td>\n",
       "      <td>70000</td>\n",
       "      <td>70000</td>\n",
       "      <td>0</td>\n",
       "    </tr>\n",
       "    <tr>\n",
       "      <th>3</th>\n",
       "      <td>2022</td>\n",
       "      <td>250000</td>\n",
       "      <td>48853</td>\n",
       "      <td>50</td>\n",
       "    </tr>\n",
       "    <tr>\n",
       "      <th>4</th>\n",
       "      <td>2022</td>\n",
       "      <td>120000</td>\n",
       "      <td>120000</td>\n",
       "      <td>100</td>\n",
       "    </tr>\n",
       "    <tr>\n",
       "      <th>5</th>\n",
       "      <td>2022</td>\n",
       "      <td>315000</td>\n",
       "      <td>315000</td>\n",
       "      <td>100</td>\n",
       "    </tr>\n",
       "    <tr>\n",
       "      <th>6</th>\n",
       "      <td>2022</td>\n",
       "      <td>220000</td>\n",
       "      <td>220000</td>\n",
       "      <td>100</td>\n",
       "    </tr>\n",
       "    <tr>\n",
       "      <th>7</th>\n",
       "      <td>2022</td>\n",
       "      <td>140000</td>\n",
       "      <td>140000</td>\n",
       "      <td>100</td>\n",
       "    </tr>\n",
       "    <tr>\n",
       "      <th>8</th>\n",
       "      <td>2021</td>\n",
       "      <td>55000</td>\n",
       "      <td>75650</td>\n",
       "      <td>50</td>\n",
       "    </tr>\n",
       "    <tr>\n",
       "      <th>9</th>\n",
       "      <td>2022</td>\n",
       "      <td>360000</td>\n",
       "      <td>360000</td>\n",
       "      <td>100</td>\n",
       "    </tr>\n",
       "  </tbody>\n",
       "</table>\n",
       "</div>"
      ],
      "text/plain": [
       "   work_year  salary  salary_in_usd  remote_ratio\n",
       "0       2022   63000          63000            50\n",
       "1       2022   95000          95000             0\n",
       "2       2022   70000          70000             0\n",
       "3       2022  250000          48853            50\n",
       "4       2022  120000         120000           100\n",
       "5       2022  315000         315000           100\n",
       "6       2022  220000         220000           100\n",
       "7       2022  140000         140000           100\n",
       "8       2021   55000          75650            50\n",
       "9       2022  360000         360000           100"
      ]
     },
     "execution_count": 18,
     "metadata": {},
     "output_type": "execute_result"
    }
   ],
   "source": [
    "dataset[['work_year','salary','salary_in_usd','remote_ratio']].head(10)"
   ]
  },
  {
   "cell_type": "markdown",
   "id": "0e901054",
   "metadata": {},
   "source": [
    "data = dataset[['work_year','salary','salary_in_usd','remote_ratio']].copy()\n",
    "untuk mengambil dataset dengan attribute bertipe angka \n",
    "\n",
    "data.to_csv(\"salary_cyber_int.csv\")\n",
    "perintah untuk mengexport csv yang telah ditentukan atau di edit"
   ]
  },
  {
   "cell_type": "code",
   "execution_count": 13,
   "id": "25e6f5ff",
   "metadata": {},
   "outputs": [],
   "source": [
    "data = dataset[['work_year','salary','salary_in_usd','remote_ratio']].copy()\n",
    "data.to_csv(\"salary_cyber_int.csv\")"
   ]
  }
 ],
 "metadata": {
  "kernelspec": {
   "display_name": "Python 3 (ipykernel)",
   "language": "python",
   "name": "python3"
  },
  "language_info": {
   "codemirror_mode": {
    "name": "ipython",
    "version": 3
   },
   "file_extension": ".py",
   "mimetype": "text/x-python",
   "name": "python",
   "nbconvert_exporter": "python",
   "pygments_lexer": "ipython3",
   "version": "3.10.7"
  }
 },
 "nbformat": 4,
 "nbformat_minor": 5
}
