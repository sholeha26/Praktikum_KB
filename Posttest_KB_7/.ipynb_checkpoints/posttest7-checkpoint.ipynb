{
 "cells": [
  {
   "cell_type": "markdown",
   "id": "e19cca82",
   "metadata": {},
   "source": [
    "# POSTTEST 7"
   ]
  },
  {
   "cell_type": "code",
   "execution_count": 24,
   "id": "5e66507a",
   "metadata": {},
   "outputs": [],
   "source": [
    "import tensorflow as tf"
   ]
  },
  {
   "cell_type": "markdown",
   "id": "a1c3c23d",
   "metadata": {},
   "source": [
    "buat nilai random dengan shape(5,5) dalam variable random_tensor"
   ]
  },
  {
   "cell_type": "code",
   "execution_count": 41,
   "id": "0df68772",
   "metadata": {},
   "outputs": [
    {
     "data": {
      "text/plain": [
       "array([[ 0.00534202, -1.0460438 , -1.6427648 , -0.3495337 ,  0.951451  ],\n",
       "       [ 0.8105827 , -0.761741  ,  1.0136645 , -1.8470215 ,  0.20171778],\n",
       "       [ 1.2173525 , -1.7574261 ,  1.765832  ,  1.14004   ,  0.8317814 ],\n",
       "       [-1.9974602 ,  0.25176758,  1.0689832 ,  0.30159846,  0.2641973 ],\n",
       "       [ 0.02316601,  0.7222838 ,  0.3744623 , -0.09558094,  1.4185706 ]],\n",
       "      dtype=float32)"
      ]
     },
     "execution_count": 41,
     "metadata": {},
     "output_type": "execute_result"
    }
   ],
   "source": [
    "random_tensor = tf.random.normal([5,5], mean=0, stddev=1, seed=1).numpy()\n",
    "random_tensor"
   ]
  },
  {
   "cell_type": "markdown",
   "id": "8fed8df2",
   "metadata": {},
   "source": [
    "buat nilai prima dengan shape(5,5) dalam variable prime_tensor"
   ]
  },
  {
   "cell_type": "code",
   "execution_count": 54,
   "id": "30fce561",
   "metadata": {},
   "outputs": [],
   "source": [
    "prime_tensor = [[2,3,5,7,11],[7,11,13,17,19],[17,19,23,29,31],[29,31,37,41,47],[41,43,47,53,59]]\n",
    "prime_tensor\n",
    "\n",
    "prime_tensor_dimension = tf.convert_to_tensor(prime_tensor, dtype=tf.int64)"
   ]
  },
  {
   "cell_type": "markdown",
   "id": "57de0efb",
   "metadata": {},
   "source": [
    "tampilkan dimensi kedua tabel"
   ]
  },
  {
   "cell_type": "code",
   "execution_count": 55,
   "id": "4ced2a80",
   "metadata": {},
   "outputs": [
    {
     "data": {
      "text/plain": [
       "(5, 5)"
      ]
     },
     "execution_count": 55,
     "metadata": {},
     "output_type": "execute_result"
    }
   ],
   "source": [
    "random_tensor.shape"
   ]
  },
  {
   "cell_type": "code",
   "execution_count": 53,
   "id": "f221d8f6",
   "metadata": {},
   "outputs": [
    {
     "data": {
      "text/plain": [
       "TensorShape([5, 5])"
      ]
     },
     "execution_count": 53,
     "metadata": {},
     "output_type": "execute_result"
    }
   ],
   "source": [
    "a.shape"
   ]
  },
  {
   "cell_type": "markdown",
   "id": "990025a0",
   "metadata": {},
   "source": [
    "# ARITMATIKA "
   ]
  },
  {
   "cell_type": "markdown",
   "id": "18013937",
   "metadata": {},
   "source": [
    "perintah aritmatika penjumlahan, pengurangan, perkalian, pembagian, pangkat"
   ]
  },
  {
   "cell_type": "code",
   "execution_count": 43,
   "id": "b00342a5",
   "metadata": {},
   "outputs": [
    {
     "data": {
      "text/plain": [
       "<tf.Tensor: shape=(5, 5), dtype=float32, numpy=\n",
       "array([[ 2.005342 ,  1.9539562,  3.3572352,  6.6504664, 11.951451 ],\n",
       "       [ 7.8105826, 10.238259 , 14.013664 , 15.152979 , 19.201717 ],\n",
       "       [18.217352 , 17.242575 , 24.765831 , 30.14004  , 31.831781 ],\n",
       "       [27.00254  , 31.251768 , 38.068985 , 41.301598 , 47.2642   ],\n",
       "       [41.023167 , 43.722282 , 47.374462 , 52.90442  , 60.41857  ]],\n",
       "      dtype=float32)>"
      ]
     },
     "execution_count": 43,
     "metadata": {},
     "output_type": "execute_result"
    }
   ],
   "source": [
    "tf.add(random_tensor,prime_tensor)"
   ]
  },
  {
   "cell_type": "code",
   "execution_count": 44,
   "id": "0774ff85",
   "metadata": {},
   "outputs": [
    {
     "data": {
      "text/plain": [
       "<tf.Tensor: shape=(5, 5), dtype=float32, numpy=\n",
       "array([[ -1.994658 ,  -4.046044 ,  -6.642765 ,  -7.3495336, -10.048549 ],\n",
       "       [ -6.1894174, -11.761741 , -11.986336 , -18.847021 , -18.798283 ],\n",
       "       [-15.782647 , -20.757425 , -21.234169 , -27.85996  , -30.168219 ],\n",
       "       [-30.99746  , -30.748232 , -35.931015 , -40.698402 , -46.7358   ],\n",
       "       [-40.976833 , -42.277718 , -46.625538 , -53.09558  , -57.58143  ]],\n",
       "      dtype=float32)>"
      ]
     },
     "execution_count": 44,
     "metadata": {},
     "output_type": "execute_result"
    }
   ],
   "source": [
    "tf.subtract(random_tensor,prime_tensor)"
   ]
  },
  {
   "cell_type": "code",
   "execution_count": 46,
   "id": "a48d094c",
   "metadata": {},
   "outputs": [
    {
     "data": {
      "text/plain": [
       "<tf.Tensor: shape=(5, 5), dtype=float32, numpy=\n",
       "array([[ 1.0684047e-02, -3.1381311e+00, -8.2138243e+00, -2.4467359e+00,\n",
       "         1.0465961e+01],\n",
       "       [ 5.6740789e+00, -8.3791504e+00,  1.3177638e+01, -3.1399364e+01,\n",
       "         3.8326378e+00],\n",
       "       [ 2.0694992e+01, -3.3391098e+01,  4.0614136e+01,  3.3061161e+01,\n",
       "         2.5785223e+01],\n",
       "       [-5.7926346e+01,  7.8047948e+00,  3.9552380e+01,  1.2365537e+01,\n",
       "         1.2417273e+01],\n",
       "       [ 9.4980657e-01,  3.1058203e+01,  1.7599728e+01, -5.0657902e+00,\n",
       "         8.3695671e+01]], dtype=float32)>"
      ]
     },
     "execution_count": 46,
     "metadata": {},
     "output_type": "execute_result"
    }
   ],
   "source": [
    "tf.multiply(random_tensor,prime_tensor)"
   ]
  },
  {
   "cell_type": "code",
   "execution_count": 47,
   "id": "99ab3734",
   "metadata": {},
   "outputs": [
    {
     "data": {
      "text/plain": [
       "<tf.Tensor: shape=(5, 5), dtype=float32, numpy=\n",
       "array([[ 0.00267101, -0.34868124, -0.32855296, -0.04993339,  0.08649555],\n",
       "       [ 0.11579753, -0.06924918,  0.07797419, -0.10864832,  0.01061673],\n",
       "       [ 0.07160897, -0.09249611,  0.0767753 ,  0.03931173,  0.02683166],\n",
       "       [-0.06887794,  0.00812153,  0.02889144,  0.00735606,  0.00562122],\n",
       "       [ 0.00056502,  0.0167973 ,  0.00796728, -0.00180341,  0.02404357]],\n",
       "      dtype=float32)>"
      ]
     },
     "execution_count": 47,
     "metadata": {},
     "output_type": "execute_result"
    }
   ],
   "source": [
    "tf.divide(random_tensor,prime_tensor)"
   ]
  },
  {
   "cell_type": "code",
   "execution_count": 48,
   "id": "65533289",
   "metadata": {},
   "outputs": [
    {
     "data": {
      "text/plain": [
       "<tf.Tensor: shape=(5, 5), dtype=float32, numpy=\n",
       "array([[ 2.8537215e-05, -1.1445889e+00, -1.1964015e+01, -6.3741673e-04,\n",
       "         5.7842988e-01],\n",
       "       [ 2.2992241e-01, -5.0104938e-02,  1.1929575e+00, -3.3886211e+04,\n",
       "         6.1679293e-14],\n",
       "       [ 2.8319008e+01, -4.4943258e+04,  4.7844884e+05,  4.4738667e+01,\n",
       "         3.3134860e-03],\n",
       "       [-5.1744739e+08,  2.6977007e-19,  1.1801101e+01,  4.5351732e-22,\n",
       "         6.7706886e-28],\n",
       "       [ 0.0000000e+00,  8.4030722e-07,  8.9162259e-21, -0.0000000e+00,\n",
       "         9.1034714e+08]], dtype=float32)>"
      ]
     },
     "execution_count": 48,
     "metadata": {},
     "output_type": "execute_result"
    }
   ],
   "source": [
    "tf.pow(random_tensor,prime_tensor)"
   ]
  },
  {
   "cell_type": "markdown",
   "id": "153def7b",
   "metadata": {},
   "source": [
    "# MIN MAX"
   ]
  },
  {
   "cell_type": "markdown",
   "id": "0e74cfff",
   "metadata": {},
   "source": [
    "menampilkan nilai max dan min dari random_tensor"
   ]
  },
  {
   "cell_type": "code",
   "execution_count": 28,
   "id": "e03e2f8b",
   "metadata": {},
   "outputs": [
    {
     "data": {
      "text/plain": [
       "<tf.Tensor: shape=(5,), dtype=int64, numpy=array([2, 0, 3, 0, 2], dtype=int64)>"
      ]
     },
     "execution_count": 28,
     "metadata": {},
     "output_type": "execute_result"
    }
   ],
   "source": [
    "tf.argmax(random_tensor, axis = 0)"
   ]
  },
  {
   "cell_type": "code",
   "execution_count": 29,
   "id": "b1a04bd7",
   "metadata": {},
   "outputs": [
    {
     "data": {
      "text/plain": [
       "<tf.Tensor: shape=(5,), dtype=int64, numpy=array([4, 3, 4, 1, 4], dtype=int64)>"
      ]
     },
     "execution_count": 29,
     "metadata": {},
     "output_type": "execute_result"
    }
   ],
   "source": [
    "tf.argmin(random_tensor, axis = 0)"
   ]
  },
  {
   "cell_type": "markdown",
   "id": "a9c4258b",
   "metadata": {},
   "source": [
    "# CONCATENATION"
   ]
  },
  {
   "cell_type": "markdown",
   "id": "9f39e95b",
   "metadata": {},
   "source": [
    "menampilkan hasil dari penggabungan variable random_tensor dengan prime_tensor"
   ]
  },
  {
   "cell_type": "code",
   "execution_count": 42,
   "id": "cc35df9f",
   "metadata": {},
   "outputs": [
    {
     "name": "stdout",
     "output_type": "stream",
     "text": [
      "size of the concatenated data: tf.Tensor(\n",
      "[[ 5.3420234e-03 -1.0460438e+00 -1.6427648e+00 -3.4953371e-01\n",
      "   9.5145100e-01]\n",
      " [ 8.1058270e-01 -7.6174098e-01  1.0136645e+00 -1.8470215e+00\n",
      "   2.0171778e-01]\n",
      " [ 1.2173525e+00 -1.7574261e+00  1.7658319e+00  1.1400400e+00\n",
      "   8.3178139e-01]\n",
      " [-1.9974602e+00  2.5176758e-01  1.0689832e+00  3.0159846e-01\n",
      "   2.6419729e-01]\n",
      " [ 2.3166014e-02  7.2228378e-01  3.7446231e-01 -9.5580943e-02\n",
      "   1.4185706e+00]\n",
      " [ 2.0000000e+00  3.0000000e+00  5.0000000e+00  7.0000000e+00\n",
      "   1.1000000e+01]\n",
      " [ 7.0000000e+00  1.1000000e+01  1.3000000e+01  1.7000000e+01\n",
      "   1.9000000e+01]\n",
      " [ 1.7000000e+01  1.9000000e+01  2.3000000e+01  2.9000000e+01\n",
      "   3.1000000e+01]\n",
      " [ 2.9000000e+01  3.1000000e+01  3.7000000e+01  4.1000000e+01\n",
      "   4.7000000e+01]\n",
      " [ 4.1000000e+01  4.3000000e+01  4.7000000e+01  5.3000000e+01\n",
      "   5.9000000e+01]], shape=(10, 5), dtype=float32)\n"
     ]
    }
   ],
   "source": [
    "concated_sample_1 = tf.concat([random_tensor,prime_tensor],axis=0)\n",
    "print(\"size of the concatenated data:\",concated_sample_1)"
   ]
  },
  {
   "cell_type": "markdown",
   "id": "2af9622b",
   "metadata": {},
   "source": [
    "# SORTING DESCENDING"
   ]
  },
  {
   "cell_type": "markdown",
   "id": "94ddcd0e",
   "metadata": {},
   "source": [
    "menampilkan sorting descending dari variable random_tensor"
   ]
  },
  {
   "cell_type": "code",
   "execution_count": 31,
   "id": "fcadf6a4",
   "metadata": {},
   "outputs": [
    {
     "data": {
      "text/plain": [
       "<tf.Tensor: shape=(5, 5), dtype=int32, numpy=\n",
       "array([[2, 1, 3, 4, 0],\n",
       "       [2, 1, 4, 0, 3],\n",
       "       [2, 0, 4, 1, 3],\n",
       "       [2, 3, 4, 0, 1],\n",
       "       [3, 1, 2, 0, 4]])>"
      ]
     },
     "execution_count": 31,
     "metadata": {},
     "output_type": "execute_result"
    }
   ],
   "source": [
    "tf.argsort(random_tensor,direction=\"DESCENDING\")"
   ]
  },
  {
   "cell_type": "markdown",
   "id": "eef64394",
   "metadata": {},
   "source": [
    "menampilkan sorting descending dari variable prime_tensor"
   ]
  },
  {
   "cell_type": "code",
   "execution_count": 32,
   "id": "def5d7c1",
   "metadata": {},
   "outputs": [
    {
     "data": {
      "text/plain": [
       "<tf.Tensor: shape=(5, 5), dtype=int32, numpy=\n",
       "array([[4, 3, 2, 1, 0],\n",
       "       [4, 3, 2, 1, 0],\n",
       "       [4, 3, 2, 1, 0],\n",
       "       [4, 3, 2, 1, 0],\n",
       "       [4, 3, 2, 1, 0]])>"
      ]
     },
     "execution_count": 32,
     "metadata": {},
     "output_type": "execute_result"
    }
   ],
   "source": [
    "tf.argsort(prime_tensor,direction=\"DESCENDING\")"
   ]
  }
 ],
 "metadata": {
  "kernelspec": {
   "display_name": "Python 3 (ipykernel)",
   "language": "python",
   "name": "python3"
  },
  "language_info": {
   "codemirror_mode": {
    "name": "ipython",
    "version": 3
   },
   "file_extension": ".py",
   "mimetype": "text/x-python",
   "name": "python",
   "nbconvert_exporter": "python",
   "pygments_lexer": "ipython3",
   "version": "3.10.7"
  }
 },
 "nbformat": 4,
 "nbformat_minor": 5
}
