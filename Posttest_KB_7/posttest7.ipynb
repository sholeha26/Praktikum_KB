{
 "cells": [
  {
   "cell_type": "markdown",
   "id": "e19cca82",
   "metadata": {},
   "source": [
    "# POSTTEST 7"
   ]
  },
  {
   "cell_type": "code",
   "execution_count": 1,
   "id": "5e66507a",
   "metadata": {},
   "outputs": [],
   "source": [
    "import tensorflow as tf"
   ]
  },
  {
   "cell_type": "markdown",
   "id": "a1c3c23d",
   "metadata": {},
   "source": [
    "buat nilai random dengan shape(5,5) dalam variable random_tensor"
   ]
  },
  {
   "cell_type": "code",
   "execution_count": 2,
   "id": "0df68772",
   "metadata": {},
   "outputs": [
    {
     "data": {
      "text/plain": [
       "array([[-0.8113182 ,  1.4845988 ,  0.06532937, -2.4427042 ,  0.0992484 ],\n",
       "       [ 0.5912243 ,  0.59282297, -2.1229296 , -0.72289723, -0.05627038],\n",
       "       [ 0.6435448 , -0.26432407,  1.8566332 ,  0.5678417 , -0.3828359 ],\n",
       "       [-1.4853433 ,  1.2617711 , -0.02530608, -0.2646297 ,  1.5328138 ],\n",
       "       [-1.7429771 , -0.43789294, -0.56601   ,  0.32066926,  1.132831  ]],\n",
       "      dtype=float32)"
      ]
     },
     "execution_count": 2,
     "metadata": {},
     "output_type": "execute_result"
    }
   ],
   "source": [
    "random_tensor = tf.random.normal([5,5], mean=0, stddev=1, seed=1).numpy()\n",
    "random_tensor"
   ]
  },
  {
   "cell_type": "markdown",
   "id": "8fed8df2",
   "metadata": {},
   "source": [
    "buat nilai prima dengan shape(5,5) dalam variable prime_tensor"
   ]
  },
  {
   "cell_type": "code",
   "execution_count": 3,
   "id": "30fce561",
   "metadata": {},
   "outputs": [],
   "source": [
    "prime_tensor = [[2,3,5,7,11],[7,11,13,17,19],[17,19,23,29,31],[29,31,37,41,47],[41,43,47,53,59]]\n",
    "prime_tensor\n",
    "\n",
    "prime_tensor_dimension = tf.convert_to_tensor(prime_tensor, dtype=tf.int64)"
   ]
  },
  {
   "cell_type": "markdown",
   "id": "57de0efb",
   "metadata": {},
   "source": [
    "tampilkan dimensi kedua tabel"
   ]
  },
  {
   "cell_type": "code",
   "execution_count": 4,
   "id": "4ced2a80",
   "metadata": {},
   "outputs": [
    {
     "data": {
      "text/plain": [
       "(5, 5)"
      ]
     },
     "execution_count": 4,
     "metadata": {},
     "output_type": "execute_result"
    }
   ],
   "source": [
    "random_tensor.shape"
   ]
  },
  {
   "cell_type": "code",
   "execution_count": 6,
   "id": "f221d8f6",
   "metadata": {},
   "outputs": [
    {
     "data": {
      "text/plain": [
       "TensorShape([5, 5])"
      ]
     },
     "execution_count": 6,
     "metadata": {},
     "output_type": "execute_result"
    }
   ],
   "source": [
    "prime_tensor_dimension.shape"
   ]
  },
  {
   "cell_type": "markdown",
   "id": "990025a0",
   "metadata": {},
   "source": [
    "# ARITMATIKA "
   ]
  },
  {
   "cell_type": "markdown",
   "id": "18013937",
   "metadata": {},
   "source": [
    "perintah aritmatika penjumlahan, pengurangan, perkalian, pembagian, pangkat"
   ]
  },
  {
   "cell_type": "code",
   "execution_count": 7,
   "id": "b00342a5",
   "metadata": {},
   "outputs": [
    {
     "data": {
      "text/plain": [
       "<tf.Tensor: shape=(5, 5), dtype=float32, numpy=\n",
       "array([[ 1.1886818,  4.4845986,  5.0653296,  4.557296 , 11.099248 ],\n",
       "       [ 7.591224 , 11.592823 , 10.87707  , 16.277103 , 18.94373  ],\n",
       "       [17.643545 , 18.735676 , 24.856632 , 29.567842 , 30.617165 ],\n",
       "       [27.514656 , 32.261772 , 36.974693 , 40.73537  , 48.532814 ],\n",
       "       [39.257023 , 42.562107 , 46.43399  , 53.32067  , 60.13283  ]],\n",
       "      dtype=float32)>"
      ]
     },
     "execution_count": 7,
     "metadata": {},
     "output_type": "execute_result"
    }
   ],
   "source": [
    "tf.add(random_tensor,prime_tensor)"
   ]
  },
  {
   "cell_type": "code",
   "execution_count": 8,
   "id": "0774ff85",
   "metadata": {},
   "outputs": [
    {
     "data": {
      "text/plain": [
       "<tf.Tensor: shape=(5, 5), dtype=float32, numpy=\n",
       "array([[ -2.8113182,  -1.5154012,  -4.9346704,  -9.442704 , -10.900752 ],\n",
       "       [ -6.408776 , -10.407177 , -15.12293  , -17.722897 , -19.05627  ],\n",
       "       [-16.356455 , -19.264324 , -21.143368 , -28.432158 , -31.382835 ],\n",
       "       [-30.485344 , -29.73823  , -37.025307 , -41.26463  , -45.467186 ],\n",
       "       [-42.742977 , -43.437893 , -47.56601  , -52.67933  , -57.86717  ]],\n",
       "      dtype=float32)>"
      ]
     },
     "execution_count": 8,
     "metadata": {},
     "output_type": "execute_result"
    }
   ],
   "source": [
    "tf.subtract(random_tensor,prime_tensor)"
   ]
  },
  {
   "cell_type": "code",
   "execution_count": 9,
   "id": "a48d094c",
   "metadata": {},
   "outputs": [
    {
     "data": {
      "text/plain": [
       "<tf.Tensor: shape=(5, 5), dtype=float32, numpy=\n",
       "array([[ -1.6226364 ,   4.4537964 ,   0.32664686, -17.09893   ,\n",
       "          1.0917324 ],\n",
       "       [  4.1385703 ,   6.521053  , -27.598083  , -12.289253  ,\n",
       "         -1.0691372 ],\n",
       "       [ 10.940262  ,  -5.022157  ,  42.702564  ,  16.46741   ,\n",
       "        -11.867912  ],\n",
       "       [-43.074955  ,  39.114902  ,  -0.93632495, -10.849817  ,\n",
       "         72.04225   ],\n",
       "       [-71.46207   , -18.829397  , -26.60247   ,  16.99547   ,\n",
       "         66.83703   ]], dtype=float32)>"
      ]
     },
     "execution_count": 9,
     "metadata": {},
     "output_type": "execute_result"
    }
   ],
   "source": [
    "tf.multiply(random_tensor,prime_tensor)"
   ]
  },
  {
   "cell_type": "code",
   "execution_count": 10,
   "id": "99ab3734",
   "metadata": {},
   "outputs": [
    {
     "data": {
      "text/plain": [
       "<tf.Tensor: shape=(5, 5), dtype=float32, numpy=\n",
       "array([[-0.4056591 ,  0.49486625,  0.01306587, -0.34895775,  0.00902258],\n",
       "       [ 0.08446062,  0.053893  , -0.16330227, -0.04252337, -0.0029616 ],\n",
       "       [ 0.03785558, -0.01391179,  0.08072318,  0.01958075, -0.01234955],\n",
       "       [-0.05121874,  0.04070229, -0.00068395, -0.00645438,  0.03261306],\n",
       "       [-0.04251164, -0.01018356, -0.01204277,  0.00605036,  0.01920052]],\n",
       "      dtype=float32)>"
      ]
     },
     "execution_count": 10,
     "metadata": {},
     "output_type": "execute_result"
    }
   ],
   "source": [
    "tf.divide(random_tensor,prime_tensor)"
   ]
  },
  {
   "cell_type": "code",
   "execution_count": 11,
   "id": "65533289",
   "metadata": {},
   "outputs": [
    {
     "data": {
      "text/plain": [
       "<tf.Tensor: shape=(5, 5), dtype=float32, numpy=\n",
       "array([[ 6.5823728e-01,  3.2721055e+00,  1.1899876e-06, -5.1891492e+02,\n",
       "         9.2036214e-12],\n",
       "       [ 2.5250269e-02,  3.1781562e-03, -1.7789455e+04, -4.0206988e-03,\n",
       "        -1.8001847e-24],\n",
       "       [ 5.5697956e-04, -1.0485702e-11,  1.5160045e+06,  7.4574679e-08,\n",
       "        -1.1841103e-13],\n",
       "       [-9.6156516e+04,  1.3501986e+03, -0.0000000e+00, -2.1290281e-24,\n",
       "         5.2239824e+08],\n",
       "       [-7.8155469e+09, -3.7915929e-16, -2.4139753e-12,  6.6227554e-27,\n",
       "         1.5694297e+03]], dtype=float32)>"
      ]
     },
     "execution_count": 11,
     "metadata": {},
     "output_type": "execute_result"
    }
   ],
   "source": [
    "tf.pow(random_tensor,prime_tensor)"
   ]
  },
  {
   "cell_type": "markdown",
   "id": "153def7b",
   "metadata": {},
   "source": [
    "# MIN MAX"
   ]
  },
  {
   "cell_type": "markdown",
   "id": "0e74cfff",
   "metadata": {},
   "source": [
    "menampilkan nilai max dan min dari random_tensor"
   ]
  },
  {
   "cell_type": "code",
   "execution_count": 12,
   "id": "e03e2f8b",
   "metadata": {},
   "outputs": [
    {
     "data": {
      "text/plain": [
       "<tf.Tensor: shape=(5,), dtype=int64, numpy=array([2, 0, 2, 2, 3], dtype=int64)>"
      ]
     },
     "execution_count": 12,
     "metadata": {},
     "output_type": "execute_result"
    }
   ],
   "source": [
    "tf.argmax(random_tensor, axis = 0)"
   ]
  },
  {
   "cell_type": "code",
   "execution_count": 13,
   "id": "b1a04bd7",
   "metadata": {},
   "outputs": [
    {
     "data": {
      "text/plain": [
       "<tf.Tensor: shape=(5,), dtype=int64, numpy=array([4, 4, 1, 0, 2], dtype=int64)>"
      ]
     },
     "execution_count": 13,
     "metadata": {},
     "output_type": "execute_result"
    }
   ],
   "source": [
    "tf.argmin(random_tensor, axis = 0)"
   ]
  },
  {
   "cell_type": "markdown",
   "id": "a9c4258b",
   "metadata": {},
   "source": [
    "# CONCATENATION"
   ]
  },
  {
   "cell_type": "markdown",
   "id": "9f39e95b",
   "metadata": {},
   "source": [
    "menampilkan hasil dari penggabungan variable random_tensor dengan prime_tensor"
   ]
  },
  {
   "cell_type": "code",
   "execution_count": 14,
   "id": "cc35df9f",
   "metadata": {},
   "outputs": [
    {
     "name": "stdout",
     "output_type": "stream",
     "text": [
      "size of the concatenated data: tf.Tensor(\n",
      "[[-8.1131822e-01  1.4845988e+00  6.5329373e-02 -2.4427042e+00\n",
      "   9.9248402e-02]\n",
      " [ 5.9122431e-01  5.9282297e-01 -2.1229296e+00 -7.2289723e-01\n",
      "  -5.6270380e-02]\n",
      " [ 6.4354479e-01 -2.6432407e-01  1.8566332e+00  5.6784171e-01\n",
      "  -3.8283589e-01]\n",
      " [-1.4853433e+00  1.2617711e+00 -2.5306080e-02 -2.6462969e-01\n",
      "   1.5328138e+00]\n",
      " [-1.7429771e+00 -4.3789294e-01 -5.6601000e-01  3.2066926e-01\n",
      "   1.1328310e+00]\n",
      " [ 2.0000000e+00  3.0000000e+00  5.0000000e+00  7.0000000e+00\n",
      "   1.1000000e+01]\n",
      " [ 7.0000000e+00  1.1000000e+01  1.3000000e+01  1.7000000e+01\n",
      "   1.9000000e+01]\n",
      " [ 1.7000000e+01  1.9000000e+01  2.3000000e+01  2.9000000e+01\n",
      "   3.1000000e+01]\n",
      " [ 2.9000000e+01  3.1000000e+01  3.7000000e+01  4.1000000e+01\n",
      "   4.7000000e+01]\n",
      " [ 4.1000000e+01  4.3000000e+01  4.7000000e+01  5.3000000e+01\n",
      "   5.9000000e+01]], shape=(10, 5), dtype=float32)\n"
     ]
    }
   ],
   "source": [
    "concated_sample_1 = tf.concat([random_tensor,prime_tensor],axis=0)\n",
    "print(\"size of the concatenated data:\",concated_sample_1)"
   ]
  },
  {
   "cell_type": "markdown",
   "id": "2af9622b",
   "metadata": {},
   "source": [
    "# SORTING DESCENDING"
   ]
  },
  {
   "cell_type": "markdown",
   "id": "94ddcd0e",
   "metadata": {},
   "source": [
    "menampilkan sorting descending dari variable random_tensor"
   ]
  },
  {
   "cell_type": "code",
   "execution_count": 15,
   "id": "fcadf6a4",
   "metadata": {},
   "outputs": [
    {
     "data": {
      "text/plain": [
       "<tf.Tensor: shape=(5, 5), dtype=int32, numpy=\n",
       "array([[1, 4, 2, 0, 3],\n",
       "       [1, 0, 4, 3, 2],\n",
       "       [2, 0, 3, 1, 4],\n",
       "       [4, 1, 2, 3, 0],\n",
       "       [4, 3, 1, 2, 0]])>"
      ]
     },
     "execution_count": 15,
     "metadata": {},
     "output_type": "execute_result"
    }
   ],
   "source": [
    "tf.argsort(random_tensor,direction=\"DESCENDING\")"
   ]
  },
  {
   "cell_type": "markdown",
   "id": "eef64394",
   "metadata": {},
   "source": [
    "menampilkan sorting descending dari variable prime_tensor"
   ]
  },
  {
   "cell_type": "code",
   "execution_count": 16,
   "id": "def5d7c1",
   "metadata": {},
   "outputs": [
    {
     "data": {
      "text/plain": [
       "<tf.Tensor: shape=(5, 5), dtype=int32, numpy=\n",
       "array([[4, 3, 2, 1, 0],\n",
       "       [4, 3, 2, 1, 0],\n",
       "       [4, 3, 2, 1, 0],\n",
       "       [4, 3, 2, 1, 0],\n",
       "       [4, 3, 2, 1, 0]])>"
      ]
     },
     "execution_count": 16,
     "metadata": {},
     "output_type": "execute_result"
    }
   ],
   "source": [
    "tf.argsort(prime_tensor,direction=\"DESCENDING\")"
   ]
  }
 ],
 "metadata": {
  "kernelspec": {
   "display_name": "Python 3 (ipykernel)",
   "language": "python",
   "name": "python3"
  },
  "language_info": {
   "codemirror_mode": {
    "name": "ipython",
    "version": 3
   },
   "file_extension": ".py",
   "mimetype": "text/x-python",
   "name": "python",
   "nbconvert_exporter": "python",
   "pygments_lexer": "ipython3",
   "version": "3.10.7"
  }
 },
 "nbformat": 4,
 "nbformat_minor": 5
}
