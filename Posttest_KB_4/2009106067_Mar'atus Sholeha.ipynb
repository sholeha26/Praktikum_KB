{
 "cells": [
  {
   "cell_type": "markdown",
   "id": "0d484c36",
   "metadata": {},
   "source": [
    "# POSTTEST 4"
   ]
  },
  {
   "cell_type": "markdown",
   "id": "bab8971e",
   "metadata": {},
   "source": [
    "Di bawah ini merupakan import library python yang akan dipakai"
   ]
  },
  {
   "cell_type": "code",
   "execution_count": 115,
   "id": "77357caa",
   "metadata": {},
   "outputs": [],
   "source": [
    "import pandas as pd\n",
    "import sklearn as sk\n",
    "from sklearn.model_selection import train_test_split\n",
    "import numpy as np"
   ]
  },
  {
   "cell_type": "markdown",
   "id": "b5f2c594",
   "metadata": {},
   "source": [
    "Di bawah ini merupakan pengambilan file csv yang berjudul salaries_cyber.csv dengan memberikan nama dataset_utama"
   ]
  },
  {
   "cell_type": "code",
   "execution_count": 116,
   "id": "fffb3417",
   "metadata": {},
   "outputs": [],
   "source": [
    "dataset_utama = pd.read_csv(\"salaries_cyber.csv\")"
   ]
  },
  {
   "cell_type": "code",
   "execution_count": 117,
   "id": "5a4346bb",
   "metadata": {},
   "outputs": [
    {
     "data": {
      "text/plain": [
       "(1247, 11)"
      ]
     },
     "execution_count": 117,
     "metadata": {},
     "output_type": "execute_result"
    }
   ],
   "source": [
    "dataset_utama.shape"
   ]
  },
  {
   "cell_type": "code",
   "execution_count": 118,
   "id": "6484f0eb",
   "metadata": {},
   "outputs": [
    {
     "data": {
      "text/html": [
       "<div>\n",
       "<style scoped>\n",
       "    .dataframe tbody tr th:only-of-type {\n",
       "        vertical-align: middle;\n",
       "    }\n",
       "\n",
       "    .dataframe tbody tr th {\n",
       "        vertical-align: top;\n",
       "    }\n",
       "\n",
       "    .dataframe thead th {\n",
       "        text-align: right;\n",
       "    }\n",
       "</style>\n",
       "<table border=\"1\" class=\"dataframe\">\n",
       "  <thead>\n",
       "    <tr style=\"text-align: right;\">\n",
       "      <th></th>\n",
       "      <th>work_year</th>\n",
       "      <th>experience_level</th>\n",
       "      <th>employment_type</th>\n",
       "      <th>job_title</th>\n",
       "      <th>salary</th>\n",
       "      <th>salary_currency</th>\n",
       "      <th>salary_in_usd</th>\n",
       "      <th>employee_residence</th>\n",
       "      <th>remote_ratio</th>\n",
       "      <th>company_location</th>\n",
       "      <th>company_size</th>\n",
       "    </tr>\n",
       "  </thead>\n",
       "  <tbody>\n",
       "    <tr>\n",
       "      <th>0</th>\n",
       "      <td>2022</td>\n",
       "      <td>EN</td>\n",
       "      <td>FT</td>\n",
       "      <td>Cyber Program Manager</td>\n",
       "      <td>63000</td>\n",
       "      <td>USD</td>\n",
       "      <td>63000</td>\n",
       "      <td>US</td>\n",
       "      <td>50</td>\n",
       "      <td>US</td>\n",
       "      <td>S</td>\n",
       "    </tr>\n",
       "    <tr>\n",
       "      <th>1</th>\n",
       "      <td>2022</td>\n",
       "      <td>MI</td>\n",
       "      <td>FT</td>\n",
       "      <td>Security Analyst</td>\n",
       "      <td>95000</td>\n",
       "      <td>USD</td>\n",
       "      <td>95000</td>\n",
       "      <td>US</td>\n",
       "      <td>0</td>\n",
       "      <td>US</td>\n",
       "      <td>M</td>\n",
       "    </tr>\n",
       "    <tr>\n",
       "      <th>2</th>\n",
       "      <td>2022</td>\n",
       "      <td>MI</td>\n",
       "      <td>FT</td>\n",
       "      <td>Security Analyst</td>\n",
       "      <td>70000</td>\n",
       "      <td>USD</td>\n",
       "      <td>70000</td>\n",
       "      <td>US</td>\n",
       "      <td>0</td>\n",
       "      <td>US</td>\n",
       "      <td>M</td>\n",
       "    </tr>\n",
       "    <tr>\n",
       "      <th>3</th>\n",
       "      <td>2022</td>\n",
       "      <td>MI</td>\n",
       "      <td>FT</td>\n",
       "      <td>IT Security Analyst</td>\n",
       "      <td>250000</td>\n",
       "      <td>BRL</td>\n",
       "      <td>48853</td>\n",
       "      <td>BR</td>\n",
       "      <td>50</td>\n",
       "      <td>BR</td>\n",
       "      <td>L</td>\n",
       "    </tr>\n",
       "    <tr>\n",
       "      <th>4</th>\n",
       "      <td>2022</td>\n",
       "      <td>EN</td>\n",
       "      <td>CT</td>\n",
       "      <td>Cyber Security Analyst</td>\n",
       "      <td>120000</td>\n",
       "      <td>USD</td>\n",
       "      <td>120000</td>\n",
       "      <td>BW</td>\n",
       "      <td>100</td>\n",
       "      <td>BW</td>\n",
       "      <td>S</td>\n",
       "    </tr>\n",
       "    <tr>\n",
       "      <th>...</th>\n",
       "      <td>...</td>\n",
       "      <td>...</td>\n",
       "      <td>...</td>\n",
       "      <td>...</td>\n",
       "      <td>...</td>\n",
       "      <td>...</td>\n",
       "      <td>...</td>\n",
       "      <td>...</td>\n",
       "      <td>...</td>\n",
       "      <td>...</td>\n",
       "      <td>...</td>\n",
       "    </tr>\n",
       "    <tr>\n",
       "      <th>1242</th>\n",
       "      <td>2020</td>\n",
       "      <td>MI</td>\n",
       "      <td>FT</td>\n",
       "      <td>Cyber Security Analyst</td>\n",
       "      <td>140000</td>\n",
       "      <td>AUD</td>\n",
       "      <td>96422</td>\n",
       "      <td>AU</td>\n",
       "      <td>50</td>\n",
       "      <td>AU</td>\n",
       "      <td>M</td>\n",
       "    </tr>\n",
       "    <tr>\n",
       "      <th>1243</th>\n",
       "      <td>2021</td>\n",
       "      <td>SE</td>\n",
       "      <td>FT</td>\n",
       "      <td>Information Security Manager</td>\n",
       "      <td>60000</td>\n",
       "      <td>GBP</td>\n",
       "      <td>82528</td>\n",
       "      <td>GB</td>\n",
       "      <td>50</td>\n",
       "      <td>GB</td>\n",
       "      <td>L</td>\n",
       "    </tr>\n",
       "    <tr>\n",
       "      <th>1244</th>\n",
       "      <td>2021</td>\n",
       "      <td>SE</td>\n",
       "      <td>FT</td>\n",
       "      <td>Penetration Testing Engineer</td>\n",
       "      <td>126000</td>\n",
       "      <td>USD</td>\n",
       "      <td>126000</td>\n",
       "      <td>US</td>\n",
       "      <td>100</td>\n",
       "      <td>US</td>\n",
       "      <td>L</td>\n",
       "    </tr>\n",
       "    <tr>\n",
       "      <th>1245</th>\n",
       "      <td>2021</td>\n",
       "      <td>MI</td>\n",
       "      <td>FT</td>\n",
       "      <td>Information Security Analyst</td>\n",
       "      <td>42000</td>\n",
       "      <td>GBP</td>\n",
       "      <td>57769</td>\n",
       "      <td>GB</td>\n",
       "      <td>100</td>\n",
       "      <td>GB</td>\n",
       "      <td>L</td>\n",
       "    </tr>\n",
       "    <tr>\n",
       "      <th>1246</th>\n",
       "      <td>2021</td>\n",
       "      <td>MI</td>\n",
       "      <td>FT</td>\n",
       "      <td>Threat Intelligence Analyst</td>\n",
       "      <td>66310</td>\n",
       "      <td>USD</td>\n",
       "      <td>66310</td>\n",
       "      <td>US</td>\n",
       "      <td>0</td>\n",
       "      <td>US</td>\n",
       "      <td>L</td>\n",
       "    </tr>\n",
       "  </tbody>\n",
       "</table>\n",
       "<p>1247 rows × 11 columns</p>\n",
       "</div>"
      ],
      "text/plain": [
       "      work_year experience_level employment_type  \\\n",
       "0          2022               EN              FT   \n",
       "1          2022               MI              FT   \n",
       "2          2022               MI              FT   \n",
       "3          2022               MI              FT   \n",
       "4          2022               EN              CT   \n",
       "...         ...              ...             ...   \n",
       "1242       2020               MI              FT   \n",
       "1243       2021               SE              FT   \n",
       "1244       2021               SE              FT   \n",
       "1245       2021               MI              FT   \n",
       "1246       2021               MI              FT   \n",
       "\n",
       "                         job_title  salary salary_currency  salary_in_usd  \\\n",
       "0            Cyber Program Manager   63000             USD          63000   \n",
       "1                 Security Analyst   95000             USD          95000   \n",
       "2                 Security Analyst   70000             USD          70000   \n",
       "3              IT Security Analyst  250000             BRL          48853   \n",
       "4           Cyber Security Analyst  120000             USD         120000   \n",
       "...                            ...     ...             ...            ...   \n",
       "1242        Cyber Security Analyst  140000             AUD          96422   \n",
       "1243  Information Security Manager   60000             GBP          82528   \n",
       "1244  Penetration Testing Engineer  126000             USD         126000   \n",
       "1245  Information Security Analyst   42000             GBP          57769   \n",
       "1246   Threat Intelligence Analyst   66310             USD          66310   \n",
       "\n",
       "     employee_residence  remote_ratio company_location company_size  \n",
       "0                    US            50               US            S  \n",
       "1                    US             0               US            M  \n",
       "2                    US             0               US            M  \n",
       "3                    BR            50               BR            L  \n",
       "4                    BW           100               BW            S  \n",
       "...                 ...           ...              ...          ...  \n",
       "1242                 AU            50               AU            M  \n",
       "1243                 GB            50               GB            L  \n",
       "1244                 US           100               US            L  \n",
       "1245                 GB           100               GB            L  \n",
       "1246                 US             0               US            L  \n",
       "\n",
       "[1247 rows x 11 columns]"
      ]
     },
     "execution_count": 118,
     "metadata": {},
     "output_type": "execute_result"
    }
   ],
   "source": [
    "dataset_utama"
   ]
  },
  {
   "cell_type": "markdown",
   "id": "2e251770",
   "metadata": {},
   "source": [
    "Dibawah ini merupakan syntax untuk membagi data menjadi training set dan testing set"
   ]
  },
  {
   "cell_type": "code",
   "execution_count": 119,
   "id": "4add1410",
   "metadata": {},
   "outputs": [],
   "source": [
    "x = dataset_utama.iloc[:,:-1]\n",
    "y = dataset_utama.iloc[:,-1]"
   ]
  },
  {
   "cell_type": "code",
   "execution_count": 120,
   "id": "153faf92",
   "metadata": {},
   "outputs": [],
   "source": [
    "X_train,X_test,y_train,y_test =  train_test_split(x,y, test_size = 0.2)"
   ]
  },
  {
   "cell_type": "code",
   "execution_count": 121,
   "id": "360e9840",
   "metadata": {},
   "outputs": [
    {
     "name": "stdout",
     "output_type": "stream",
     "text": [
      "Dimensi X_train :  (997, 10)\n",
      "Dimensi X_test :  (250, 10)\n",
      "Dimensi Y_train :  (997,)\n",
      "Dimensi Y_test :  (250,)\n"
     ]
    }
   ],
   "source": [
    "print(\"Dimensi X_train : \", X_train.shape)\n",
    "print(\"Dimensi X_test : \", X_test.shape)\n",
    "print(\"Dimensi Y_train : \", y_train.shape)\n",
    "print(\"Dimensi Y_test : \", y_test.shape)"
   ]
  },
  {
   "cell_type": "markdown",
   "id": "44072819",
   "metadata": {},
   "source": [
    "Di bawah ini merupakan syntax dari min max scaler, pertama import library \n",
    "MinMaxScaler dari sklearn.prreprocessing terlebih dahulu. Kemudian copy data dan beri nama dataset_no1, dan jalankan syntax.\n",
    "dataset yang di ambil berupa numerik, jadi colom salaray,salary_in_usd, dan remote_ratio. Dan terakhir di tampilkan pada df2"
   ]
  },
  {
   "cell_type": "code",
   "execution_count": 122,
   "id": "378ed4e9",
   "metadata": {},
   "outputs": [],
   "source": [
    "from sklearn.preprocessing import MinMaxScaler"
   ]
  },
  {
   "cell_type": "code",
   "execution_count": 123,
   "id": "f1c07011",
   "metadata": {},
   "outputs": [],
   "source": [
    "dataset_no1 = dataset_utama.copy()"
   ]
  },
  {
   "cell_type": "code",
   "execution_count": 124,
   "id": "80e3f618",
   "metadata": {},
   "outputs": [],
   "source": [
    "min_max_scaler = MinMaxScaler()"
   ]
  },
  {
   "cell_type": "code",
   "execution_count": 125,
   "id": "9494e68f",
   "metadata": {},
   "outputs": [],
   "source": [
    "x_scaler = min_max_scaler.fit_transform(dataset_no1[['salary','salary_in_usd','remote_ratio']])"
   ]
  },
  {
   "cell_type": "code",
   "execution_count": 126,
   "id": "bdeb92f2",
   "metadata": {},
   "outputs": [],
   "source": [
    "df2 = pd.DataFrame(x_scaler)"
   ]
  },
  {
   "cell_type": "code",
   "execution_count": 127,
   "id": "da46770a",
   "metadata": {},
   "outputs": [
    {
     "data": {
      "text/html": [
       "<div>\n",
       "<style scoped>\n",
       "    .dataframe tbody tr th:only-of-type {\n",
       "        vertical-align: middle;\n",
       "    }\n",
       "\n",
       "    .dataframe tbody tr th {\n",
       "        vertical-align: top;\n",
       "    }\n",
       "\n",
       "    .dataframe thead th {\n",
       "        text-align: right;\n",
       "    }\n",
       "</style>\n",
       "<table border=\"1\" class=\"dataframe\">\n",
       "  <thead>\n",
       "    <tr style=\"text-align: right;\">\n",
       "      <th></th>\n",
       "      <th>0</th>\n",
       "      <th>1</th>\n",
       "      <th>2</th>\n",
       "    </tr>\n",
       "  </thead>\n",
       "  <tbody>\n",
       "    <tr>\n",
       "      <th>0</th>\n",
       "      <td>0.000123</td>\n",
       "      <td>0.067107</td>\n",
       "      <td>0.5</td>\n",
       "    </tr>\n",
       "    <tr>\n",
       "      <th>1</th>\n",
       "      <td>0.000187</td>\n",
       "      <td>0.102311</td>\n",
       "      <td>0.0</td>\n",
       "    </tr>\n",
       "    <tr>\n",
       "      <th>2</th>\n",
       "      <td>0.000137</td>\n",
       "      <td>0.074808</td>\n",
       "      <td>0.0</td>\n",
       "    </tr>\n",
       "    <tr>\n",
       "      <th>3</th>\n",
       "      <td>0.000497</td>\n",
       "      <td>0.051544</td>\n",
       "      <td>0.5</td>\n",
       "    </tr>\n",
       "    <tr>\n",
       "      <th>4</th>\n",
       "      <td>0.000237</td>\n",
       "      <td>0.129814</td>\n",
       "      <td>1.0</td>\n",
       "    </tr>\n",
       "  </tbody>\n",
       "</table>\n",
       "</div>"
      ],
      "text/plain": [
       "          0         1    2\n",
       "0  0.000123  0.067107  0.5\n",
       "1  0.000187  0.102311  0.0\n",
       "2  0.000137  0.074808  0.0\n",
       "3  0.000497  0.051544  0.5\n",
       "4  0.000237  0.129814  1.0"
      ]
     },
     "execution_count": 127,
     "metadata": {},
     "output_type": "execute_result"
    }
   ],
   "source": [
    "df2.head(5)"
   ]
  },
  {
   "cell_type": "markdown",
   "id": "9418e565",
   "metadata": {},
   "source": [
    "Di bawah ini merupakan syntax ketika ingin standarisasi data. \n",
    "import StandardScaler dari sklearn.preprocessing, lalu copy dataset_utama dan beri nama dataset_no2.\n",
    "cek nama kolom, dan masukkan sytax untuk standarisasi dengan memasukkan kolom bernilai numerik, yaitu work_year, salary,salary_in_usd, dan remote_ratio. \n",
    "print data sebelum standarisasi untuk perbandingan, lalu print data setelah standarisasi untuk hasil akhir.\n",
    "nilai yang di dapatkan adalah 0.999999 yang artinya merupakan nilai rata-rata."
   ]
  },
  {
   "cell_type": "code",
   "execution_count": 128,
   "id": "a29216be",
   "metadata": {},
   "outputs": [],
   "source": [
    "from sklearn.preprocessing import StandardScaler"
   ]
  },
  {
   "cell_type": "code",
   "execution_count": 129,
   "id": "2356c18f",
   "metadata": {},
   "outputs": [],
   "source": [
    "dataset_no2 = dataset_utama.copy()"
   ]
  },
  {
   "cell_type": "code",
   "execution_count": 130,
   "id": "b75b7048",
   "metadata": {},
   "outputs": [
    {
     "data": {
      "text/plain": [
       "Index(['work_year', 'experience_level', 'employment_type', 'job_title',\n",
       "       'salary', 'salary_currency', 'salary_in_usd', 'employee_residence',\n",
       "       'remote_ratio', 'company_location', 'company_size'],\n",
       "      dtype='object')"
      ]
     },
     "execution_count": 130,
     "metadata": {},
     "output_type": "execute_result"
    }
   ],
   "source": [
    "dataset_no2.columns"
   ]
  },
  {
   "cell_type": "code",
   "execution_count": 131,
   "id": "9e17b32f",
   "metadata": {},
   "outputs": [],
   "source": [
    "ss = StandardScaler()\n",
    "Scaled_data = ss.fit_transform(dataset_no2[['work_year','salary','salary_in_usd','remote_ratio']])"
   ]
  },
  {
   "cell_type": "code",
   "execution_count": 132,
   "id": "fbdef549",
   "metadata": {},
   "outputs": [
    {
     "name": "stdout",
     "output_type": "stream",
     "text": [
      "Nilai Sebelum Strandarisasi\n",
      "Standart Deviasi : work_year        7.152143e-01\n",
      "salary           1.415376e+07\n",
      "salary_in_usd    7.026321e+04\n",
      "remote_ratio     3.933107e+01\n",
      "dtype: float64\n"
     ]
    },
    {
     "name": "stderr",
     "output_type": "stream",
     "text": [
      "C:\\Users\\USER\\AppData\\Local\\Programs\\Python\\Python310\\lib\\site-packages\\numpy\\core\\fromnumeric.py:3571: FutureWarning: The default value of numeric_only in DataFrame.std is deprecated. In a future version, it will default to False. In addition, specifying 'numeric_only=None' is deprecated. Select only valid columns or specify the value of numeric_only to silence this warning.\n",
      "  return std(axis=axis, dtype=dtype, out=out, ddof=ddof, **kwargs)\n"
     ]
    }
   ],
   "source": [
    "print(\"Nilai Sebelum Strandarisasi\")\n",
    "print(\"Standart Deviasi :\", np.std(dataset_no2))"
   ]
  },
  {
   "cell_type": "code",
   "execution_count": 133,
   "id": "569ec6c2",
   "metadata": {},
   "outputs": [
    {
     "name": "stdout",
     "output_type": "stream",
     "text": [
      "Nilai Setelah Strandarisasi\n",
      "Standart Deviasi : 0.9999999999999998\n"
     ]
    }
   ],
   "source": [
    "print(\"Nilai Setelah Strandarisasi\")\n",
    "print(\"Standart Deviasi :\", np.std(Scaled_data))"
   ]
  },
  {
   "cell_type": "markdown",
   "id": "540df431",
   "metadata": {},
   "source": [
    "# DATA CLEANING"
   ]
  },
  {
   "cell_type": "markdown",
   "id": "7e358e0c",
   "metadata": {},
   "source": [
    "Di bawah merupakan cara untuk mengganti data null kedalam mean, median dan modus.\n",
    "Pertama ambil dahulu dataset yang telah di rusak sebelumnya, beri nama dataset_rusak.\n",
    "Lalu import SimpleImputer dari sklearn.impute. Lalu deklarasikan imputer_mean, imputer_median, dan imputer_most_frequent(modus).\n",
    "copy dataset dan berinama dataset_rusak_cleaned.\n",
    "cek jumlah data null pada dataset.\n",
    "dan masukkan data mean,median, modus pada kolom yang memiliki data null, yaitu salary, salary_in_usd, dan remote_ratio.\n",
    "kemudia buat perbandingan antara data original dan data yg telah di bersihkan. \n",
    "print data pembanding untuk melihat hasil. Dan cek hasil data null"
   ]
  },
  {
   "cell_type": "code",
   "execution_count": 134,
   "id": "08c7156d",
   "metadata": {},
   "outputs": [
    {
     "data": {
      "text/html": [
       "<div>\n",
       "<style scoped>\n",
       "    .dataframe tbody tr th:only-of-type {\n",
       "        vertical-align: middle;\n",
       "    }\n",
       "\n",
       "    .dataframe tbody tr th {\n",
       "        vertical-align: top;\n",
       "    }\n",
       "\n",
       "    .dataframe thead th {\n",
       "        text-align: right;\n",
       "    }\n",
       "</style>\n",
       "<table border=\"1\" class=\"dataframe\">\n",
       "  <thead>\n",
       "    <tr style=\"text-align: right;\">\n",
       "      <th></th>\n",
       "      <th>work_year</th>\n",
       "      <th>experience_level</th>\n",
       "      <th>employment_type</th>\n",
       "      <th>job_title</th>\n",
       "      <th>salary</th>\n",
       "      <th>salary_currency</th>\n",
       "      <th>salary_in_usd</th>\n",
       "      <th>employee_residence</th>\n",
       "      <th>remote_ratio</th>\n",
       "      <th>company_location</th>\n",
       "      <th>company_size</th>\n",
       "    </tr>\n",
       "  </thead>\n",
       "  <tbody>\n",
       "    <tr>\n",
       "      <th>0</th>\n",
       "      <td>2022</td>\n",
       "      <td>EN</td>\n",
       "      <td>FT</td>\n",
       "      <td>Cyber Program Manager</td>\n",
       "      <td>63000.0</td>\n",
       "      <td>USD</td>\n",
       "      <td>63000.0</td>\n",
       "      <td>US</td>\n",
       "      <td>50.0</td>\n",
       "      <td>US</td>\n",
       "      <td>S</td>\n",
       "    </tr>\n",
       "    <tr>\n",
       "      <th>1</th>\n",
       "      <td>2022</td>\n",
       "      <td>MI</td>\n",
       "      <td>FT</td>\n",
       "      <td>Security Analyst</td>\n",
       "      <td>95000.0</td>\n",
       "      <td>USD</td>\n",
       "      <td>95000.0</td>\n",
       "      <td>US</td>\n",
       "      <td>0.0</td>\n",
       "      <td>US</td>\n",
       "      <td>M</td>\n",
       "    </tr>\n",
       "    <tr>\n",
       "      <th>2</th>\n",
       "      <td>2022</td>\n",
       "      <td>MI</td>\n",
       "      <td>FT</td>\n",
       "      <td>Security Analyst</td>\n",
       "      <td>70000.0</td>\n",
       "      <td>USD</td>\n",
       "      <td>70000.0</td>\n",
       "      <td>US</td>\n",
       "      <td>0.0</td>\n",
       "      <td>US</td>\n",
       "      <td>M</td>\n",
       "    </tr>\n",
       "    <tr>\n",
       "      <th>3</th>\n",
       "      <td>2022</td>\n",
       "      <td>MI</td>\n",
       "      <td>FT</td>\n",
       "      <td>IT Security Analyst</td>\n",
       "      <td>250000.0</td>\n",
       "      <td>BRL</td>\n",
       "      <td>48853.0</td>\n",
       "      <td>BR</td>\n",
       "      <td>50.0</td>\n",
       "      <td>BR</td>\n",
       "      <td>L</td>\n",
       "    </tr>\n",
       "    <tr>\n",
       "      <th>4</th>\n",
       "      <td>2022</td>\n",
       "      <td>EN</td>\n",
       "      <td>CT</td>\n",
       "      <td>Cyber Security Analyst</td>\n",
       "      <td>120000.0</td>\n",
       "      <td>USD</td>\n",
       "      <td>120000.0</td>\n",
       "      <td>BW</td>\n",
       "      <td>100.0</td>\n",
       "      <td>BW</td>\n",
       "      <td>S</td>\n",
       "    </tr>\n",
       "  </tbody>\n",
       "</table>\n",
       "</div>"
      ],
      "text/plain": [
       "   work_year experience_level employment_type               job_title  \\\n",
       "0       2022               EN              FT   Cyber Program Manager   \n",
       "1       2022               MI              FT        Security Analyst   \n",
       "2       2022               MI              FT        Security Analyst   \n",
       "3       2022               MI              FT     IT Security Analyst   \n",
       "4       2022               EN              CT  Cyber Security Analyst   \n",
       "\n",
       "     salary salary_currency  salary_in_usd employee_residence  remote_ratio  \\\n",
       "0   63000.0             USD        63000.0                 US          50.0   \n",
       "1   95000.0             USD        95000.0                 US           0.0   \n",
       "2   70000.0             USD        70000.0                 US           0.0   \n",
       "3  250000.0             BRL        48853.0                 BR          50.0   \n",
       "4  120000.0             USD       120000.0                 BW         100.0   \n",
       "\n",
       "  company_location company_size  \n",
       "0               US            S  \n",
       "1               US            M  \n",
       "2               US            M  \n",
       "3               BR            L  \n",
       "4               BW            S  "
      ]
     },
     "execution_count": 134,
     "metadata": {},
     "output_type": "execute_result"
    }
   ],
   "source": [
    "dataset_rusak = pd.read_csv(\"salaries_cyber_rusak.csv\")\n",
    "dataset_rusak.head(5)"
   ]
  },
  {
   "cell_type": "code",
   "execution_count": 135,
   "id": "911ec41f",
   "metadata": {},
   "outputs": [],
   "source": [
    "from sklearn.impute import SimpleImputer"
   ]
  },
  {
   "cell_type": "code",
   "execution_count": 136,
   "id": "e3eead64",
   "metadata": {},
   "outputs": [],
   "source": [
    "imputer_mean = SimpleImputer(strategy='mean')\n",
    "imputer_median = SimpleImputer(strategy='median')\n",
    "imputer_most_frequent = SimpleImputer(strategy='most_frequent')"
   ]
  },
  {
   "cell_type": "code",
   "execution_count": 137,
   "id": "799c194f",
   "metadata": {},
   "outputs": [],
   "source": [
    "dataset_rusak_cleaned = dataset_rusak.copy()"
   ]
  },
  {
   "cell_type": "code",
   "execution_count": 138,
   "id": "fdd79b39",
   "metadata": {},
   "outputs": [
    {
     "data": {
      "text/plain": [
       "work_year              0\n",
       "experience_level       0\n",
       "employment_type        0\n",
       "job_title              0\n",
       "salary                 7\n",
       "salary_currency        0\n",
       "salary_in_usd         16\n",
       "employee_residence     0\n",
       "remote_ratio           3\n",
       "company_location       0\n",
       "company_size           0\n",
       "dtype: int64"
      ]
     },
     "execution_count": 138,
     "metadata": {},
     "output_type": "execute_result"
    }
   ],
   "source": [
    "dataset_rusak_cleaned.isna().sum()"
   ]
  },
  {
   "cell_type": "code",
   "execution_count": 139,
   "id": "0c66aaef",
   "metadata": {},
   "outputs": [
    {
     "data": {
      "text/plain": [
       "Index(['work_year', 'experience_level', 'employment_type', 'job_title',\n",
       "       'salary', 'salary_currency', 'salary_in_usd', 'employee_residence',\n",
       "       'remote_ratio', 'company_location', 'company_size'],\n",
       "      dtype='object')"
      ]
     },
     "execution_count": 139,
     "metadata": {},
     "output_type": "execute_result"
    }
   ],
   "source": [
    "dataset_rusak_cleaned.columns"
   ]
  },
  {
   "cell_type": "code",
   "execution_count": 140,
   "id": "7d4a9ff0",
   "metadata": {},
   "outputs": [],
   "source": [
    "dataset_rusak_cleaned['salary'] = imputer_median.fit_transform(dataset_rusak[['salary']])\n",
    "dataset_rusak_cleaned['salary_in_usd'] = imputer_most_frequent.fit_transform(dataset_rusak[['salary_in_usd']])\n",
    "dataset_rusak_cleaned['remote_ratio'] = imputer_median.fit_transform(dataset_rusak[['remote_ratio']])"
   ]
  },
  {
   "cell_type": "code",
   "execution_count": 141,
   "id": "f2901037",
   "metadata": {},
   "outputs": [],
   "source": [
    "data_pembanding = pd.DataFrame(\n",
    "{\n",
    "    \"salary_original\":dataset_rusak_cleaned['salary'],\n",
    "    \"salary_cleaned\":dataset_rusak['salary'],\n",
    "     \"salary_in_usd_original\":dataset_rusak_cleaned['salary_in_usd'],\n",
    "    \"salary_in_usd_cleaned\":dataset_rusak['salary_in_usd'],\n",
    "     \"remote_ratio_original\":dataset_rusak_cleaned['remote_ratio'],\n",
    "    \"remote_ratio_cleaned\":dataset_rusak['remote_ratio']\n",
    "}\n",
    ")"
   ]
  },
  {
   "cell_type": "code",
   "execution_count": 142,
   "id": "884ec098",
   "metadata": {},
   "outputs": [
    {
     "data": {
      "text/html": [
       "<div>\n",
       "<style scoped>\n",
       "    .dataframe tbody tr th:only-of-type {\n",
       "        vertical-align: middle;\n",
       "    }\n",
       "\n",
       "    .dataframe tbody tr th {\n",
       "        vertical-align: top;\n",
       "    }\n",
       "\n",
       "    .dataframe thead th {\n",
       "        text-align: right;\n",
       "    }\n",
       "</style>\n",
       "<table border=\"1\" class=\"dataframe\">\n",
       "  <thead>\n",
       "    <tr style=\"text-align: right;\">\n",
       "      <th></th>\n",
       "      <th>salary_original</th>\n",
       "      <th>salary_cleaned</th>\n",
       "      <th>salary_in_usd_original</th>\n",
       "      <th>salary_in_usd_cleaned</th>\n",
       "      <th>remote_ratio_original</th>\n",
       "      <th>remote_ratio_cleaned</th>\n",
       "    </tr>\n",
       "  </thead>\n",
       "  <tbody>\n",
       "    <tr>\n",
       "      <th>1223</th>\n",
       "      <td>149000.0</td>\n",
       "      <td>149000.0</td>\n",
       "      <td>149000.0</td>\n",
       "      <td>149000.0</td>\n",
       "      <td>50.0</td>\n",
       "      <td>50.0</td>\n",
       "    </tr>\n",
       "    <tr>\n",
       "      <th>1224</th>\n",
       "      <td>140000.0</td>\n",
       "      <td>140000.0</td>\n",
       "      <td>140000.0</td>\n",
       "      <td>140000.0</td>\n",
       "      <td>50.0</td>\n",
       "      <td>50.0</td>\n",
       "    </tr>\n",
       "    <tr>\n",
       "      <th>1225</th>\n",
       "      <td>120000.0</td>\n",
       "      <td>NaN</td>\n",
       "      <td>116000.0</td>\n",
       "      <td>116000.0</td>\n",
       "      <td>50.0</td>\n",
       "      <td>50.0</td>\n",
       "    </tr>\n",
       "    <tr>\n",
       "      <th>1226</th>\n",
       "      <td>81000.0</td>\n",
       "      <td>81000.0</td>\n",
       "      <td>81000.0</td>\n",
       "      <td>81000.0</td>\n",
       "      <td>100.0</td>\n",
       "      <td>100.0</td>\n",
       "    </tr>\n",
       "    <tr>\n",
       "      <th>1227</th>\n",
       "      <td>115000.0</td>\n",
       "      <td>115000.0</td>\n",
       "      <td>115000.0</td>\n",
       "      <td>115000.0</td>\n",
       "      <td>100.0</td>\n",
       "      <td>NaN</td>\n",
       "    </tr>\n",
       "    <tr>\n",
       "      <th>1228</th>\n",
       "      <td>128000.0</td>\n",
       "      <td>128000.0</td>\n",
       "      <td>128000.0</td>\n",
       "      <td>128000.0</td>\n",
       "      <td>100.0</td>\n",
       "      <td>100.0</td>\n",
       "    </tr>\n",
       "    <tr>\n",
       "      <th>1229</th>\n",
       "      <td>63000.0</td>\n",
       "      <td>63000.0</td>\n",
       "      <td>71849.0</td>\n",
       "      <td>71849.0</td>\n",
       "      <td>0.0</td>\n",
       "      <td>0.0</td>\n",
       "    </tr>\n",
       "    <tr>\n",
       "      <th>1230</th>\n",
       "      <td>100000.0</td>\n",
       "      <td>100000.0</td>\n",
       "      <td>114047.0</td>\n",
       "      <td>114047.0</td>\n",
       "      <td>100.0</td>\n",
       "      <td>100.0</td>\n",
       "    </tr>\n",
       "    <tr>\n",
       "      <th>1231</th>\n",
       "      <td>122750.0</td>\n",
       "      <td>122750.0</td>\n",
       "      <td>122750.0</td>\n",
       "      <td>122750.0</td>\n",
       "      <td>100.0</td>\n",
       "      <td>100.0</td>\n",
       "    </tr>\n",
       "    <tr>\n",
       "      <th>1232</th>\n",
       "      <td>144000.0</td>\n",
       "      <td>144000.0</td>\n",
       "      <td>144000.0</td>\n",
       "      <td>144000.0</td>\n",
       "      <td>0.0</td>\n",
       "      <td>0.0</td>\n",
       "    </tr>\n",
       "    <tr>\n",
       "      <th>1233</th>\n",
       "      <td>80000.0</td>\n",
       "      <td>80000.0</td>\n",
       "      <td>102611.0</td>\n",
       "      <td>102611.0</td>\n",
       "      <td>50.0</td>\n",
       "      <td>50.0</td>\n",
       "    </tr>\n",
       "    <tr>\n",
       "      <th>1234</th>\n",
       "      <td>120000.0</td>\n",
       "      <td>NaN</td>\n",
       "      <td>100000.0</td>\n",
       "      <td>100000.0</td>\n",
       "      <td>0.0</td>\n",
       "      <td>0.0</td>\n",
       "    </tr>\n",
       "    <tr>\n",
       "      <th>1235</th>\n",
       "      <td>110000.0</td>\n",
       "      <td>110000.0</td>\n",
       "      <td>110000.0</td>\n",
       "      <td>110000.0</td>\n",
       "      <td>50.0</td>\n",
       "      <td>50.0</td>\n",
       "    </tr>\n",
       "    <tr>\n",
       "      <th>1236</th>\n",
       "      <td>35000.0</td>\n",
       "      <td>35000.0</td>\n",
       "      <td>35000.0</td>\n",
       "      <td>35000.0</td>\n",
       "      <td>100.0</td>\n",
       "      <td>100.0</td>\n",
       "    </tr>\n",
       "    <tr>\n",
       "      <th>1237</th>\n",
       "      <td>65000.0</td>\n",
       "      <td>65000.0</td>\n",
       "      <td>65000.0</td>\n",
       "      <td>65000.0</td>\n",
       "      <td>100.0</td>\n",
       "      <td>100.0</td>\n",
       "    </tr>\n",
       "    <tr>\n",
       "      <th>1238</th>\n",
       "      <td>170000.0</td>\n",
       "      <td>170000.0</td>\n",
       "      <td>170000.0</td>\n",
       "      <td>170000.0</td>\n",
       "      <td>100.0</td>\n",
       "      <td>100.0</td>\n",
       "    </tr>\n",
       "    <tr>\n",
       "      <th>1239</th>\n",
       "      <td>135000.0</td>\n",
       "      <td>135000.0</td>\n",
       "      <td>135000.0</td>\n",
       "      <td>135000.0</td>\n",
       "      <td>100.0</td>\n",
       "      <td>100.0</td>\n",
       "    </tr>\n",
       "    <tr>\n",
       "      <th>1240</th>\n",
       "      <td>100000.0</td>\n",
       "      <td>100000.0</td>\n",
       "      <td>100000.0</td>\n",
       "      <td>100000.0</td>\n",
       "      <td>50.0</td>\n",
       "      <td>50.0</td>\n",
       "    </tr>\n",
       "    <tr>\n",
       "      <th>1241</th>\n",
       "      <td>356000.0</td>\n",
       "      <td>356000.0</td>\n",
       "      <td>456621.0</td>\n",
       "      <td>456621.0</td>\n",
       "      <td>100.0</td>\n",
       "      <td>100.0</td>\n",
       "    </tr>\n",
       "    <tr>\n",
       "      <th>1242</th>\n",
       "      <td>140000.0</td>\n",
       "      <td>140000.0</td>\n",
       "      <td>96422.0</td>\n",
       "      <td>96422.0</td>\n",
       "      <td>50.0</td>\n",
       "      <td>50.0</td>\n",
       "    </tr>\n",
       "    <tr>\n",
       "      <th>1243</th>\n",
       "      <td>60000.0</td>\n",
       "      <td>60000.0</td>\n",
       "      <td>82528.0</td>\n",
       "      <td>82528.0</td>\n",
       "      <td>50.0</td>\n",
       "      <td>50.0</td>\n",
       "    </tr>\n",
       "    <tr>\n",
       "      <th>1244</th>\n",
       "      <td>126000.0</td>\n",
       "      <td>126000.0</td>\n",
       "      <td>126000.0</td>\n",
       "      <td>126000.0</td>\n",
       "      <td>100.0</td>\n",
       "      <td>100.0</td>\n",
       "    </tr>\n",
       "    <tr>\n",
       "      <th>1245</th>\n",
       "      <td>42000.0</td>\n",
       "      <td>42000.0</td>\n",
       "      <td>57769.0</td>\n",
       "      <td>57769.0</td>\n",
       "      <td>100.0</td>\n",
       "      <td>100.0</td>\n",
       "    </tr>\n",
       "    <tr>\n",
       "      <th>1246</th>\n",
       "      <td>66310.0</td>\n",
       "      <td>66310.0</td>\n",
       "      <td>66310.0</td>\n",
       "      <td>66310.0</td>\n",
       "      <td>0.0</td>\n",
       "      <td>0.0</td>\n",
       "    </tr>\n",
       "    <tr>\n",
       "      <th>1247</th>\n",
       "      <td>115000.0</td>\n",
       "      <td>115000.0</td>\n",
       "      <td>90218.0</td>\n",
       "      <td>90218.0</td>\n",
       "      <td>100.0</td>\n",
       "      <td>100.0</td>\n",
       "    </tr>\n",
       "    <tr>\n",
       "      <th>1248</th>\n",
       "      <td>145000.0</td>\n",
       "      <td>145000.0</td>\n",
       "      <td>145000.0</td>\n",
       "      <td>145000.0</td>\n",
       "      <td>0.0</td>\n",
       "      <td>0.0</td>\n",
       "    </tr>\n",
       "    <tr>\n",
       "      <th>1249</th>\n",
       "      <td>135000.0</td>\n",
       "      <td>135000.0</td>\n",
       "      <td>135000.0</td>\n",
       "      <td>135000.0</td>\n",
       "      <td>0.0</td>\n",
       "      <td>0.0</td>\n",
       "    </tr>\n",
       "    <tr>\n",
       "      <th>1250</th>\n",
       "      <td>88000.0</td>\n",
       "      <td>88000.0</td>\n",
       "      <td>88000.0</td>\n",
       "      <td>88000.0</td>\n",
       "      <td>0.0</td>\n",
       "      <td>0.0</td>\n",
       "    </tr>\n",
       "    <tr>\n",
       "      <th>1251</th>\n",
       "      <td>84000.0</td>\n",
       "      <td>84000.0</td>\n",
       "      <td>84000.0</td>\n",
       "      <td>84000.0</td>\n",
       "      <td>0.0</td>\n",
       "      <td>0.0</td>\n",
       "    </tr>\n",
       "    <tr>\n",
       "      <th>1252</th>\n",
       "      <td>120000.0</td>\n",
       "      <td>120000.0</td>\n",
       "      <td>120000.0</td>\n",
       "      <td>120000.0</td>\n",
       "      <td>100.0</td>\n",
       "      <td>100.0</td>\n",
       "    </tr>\n",
       "  </tbody>\n",
       "</table>\n",
       "</div>"
      ],
      "text/plain": [
       "      salary_original  salary_cleaned  salary_in_usd_original  \\\n",
       "1223         149000.0        149000.0                149000.0   \n",
       "1224         140000.0        140000.0                140000.0   \n",
       "1225         120000.0             NaN                116000.0   \n",
       "1226          81000.0         81000.0                 81000.0   \n",
       "1227         115000.0        115000.0                115000.0   \n",
       "1228         128000.0        128000.0                128000.0   \n",
       "1229          63000.0         63000.0                 71849.0   \n",
       "1230         100000.0        100000.0                114047.0   \n",
       "1231         122750.0        122750.0                122750.0   \n",
       "1232         144000.0        144000.0                144000.0   \n",
       "1233          80000.0         80000.0                102611.0   \n",
       "1234         120000.0             NaN                100000.0   \n",
       "1235         110000.0        110000.0                110000.0   \n",
       "1236          35000.0         35000.0                 35000.0   \n",
       "1237          65000.0         65000.0                 65000.0   \n",
       "1238         170000.0        170000.0                170000.0   \n",
       "1239         135000.0        135000.0                135000.0   \n",
       "1240         100000.0        100000.0                100000.0   \n",
       "1241         356000.0        356000.0                456621.0   \n",
       "1242         140000.0        140000.0                 96422.0   \n",
       "1243          60000.0         60000.0                 82528.0   \n",
       "1244         126000.0        126000.0                126000.0   \n",
       "1245          42000.0         42000.0                 57769.0   \n",
       "1246          66310.0         66310.0                 66310.0   \n",
       "1247         115000.0        115000.0                 90218.0   \n",
       "1248         145000.0        145000.0                145000.0   \n",
       "1249         135000.0        135000.0                135000.0   \n",
       "1250          88000.0         88000.0                 88000.0   \n",
       "1251          84000.0         84000.0                 84000.0   \n",
       "1252         120000.0        120000.0                120000.0   \n",
       "\n",
       "      salary_in_usd_cleaned  remote_ratio_original  remote_ratio_cleaned  \n",
       "1223               149000.0                   50.0                  50.0  \n",
       "1224               140000.0                   50.0                  50.0  \n",
       "1225               116000.0                   50.0                  50.0  \n",
       "1226                81000.0                  100.0                 100.0  \n",
       "1227               115000.0                  100.0                   NaN  \n",
       "1228               128000.0                  100.0                 100.0  \n",
       "1229                71849.0                    0.0                   0.0  \n",
       "1230               114047.0                  100.0                 100.0  \n",
       "1231               122750.0                  100.0                 100.0  \n",
       "1232               144000.0                    0.0                   0.0  \n",
       "1233               102611.0                   50.0                  50.0  \n",
       "1234               100000.0                    0.0                   0.0  \n",
       "1235               110000.0                   50.0                  50.0  \n",
       "1236                35000.0                  100.0                 100.0  \n",
       "1237                65000.0                  100.0                 100.0  \n",
       "1238               170000.0                  100.0                 100.0  \n",
       "1239               135000.0                  100.0                 100.0  \n",
       "1240               100000.0                   50.0                  50.0  \n",
       "1241               456621.0                  100.0                 100.0  \n",
       "1242                96422.0                   50.0                  50.0  \n",
       "1243                82528.0                   50.0                  50.0  \n",
       "1244               126000.0                  100.0                 100.0  \n",
       "1245                57769.0                  100.0                 100.0  \n",
       "1246                66310.0                    0.0                   0.0  \n",
       "1247                90218.0                  100.0                 100.0  \n",
       "1248               145000.0                    0.0                   0.0  \n",
       "1249               135000.0                    0.0                   0.0  \n",
       "1250                88000.0                    0.0                   0.0  \n",
       "1251                84000.0                    0.0                   0.0  \n",
       "1252               120000.0                  100.0                 100.0  "
      ]
     },
     "execution_count": 142,
     "metadata": {},
     "output_type": "execute_result"
    }
   ],
   "source": [
    "data_pembanding.tail(30)"
   ]
  },
  {
   "cell_type": "code",
   "execution_count": 143,
   "id": "2ae379e8",
   "metadata": {},
   "outputs": [
    {
     "data": {
      "text/plain": [
       "work_year             0\n",
       "experience_level      0\n",
       "employment_type       0\n",
       "job_title             0\n",
       "salary                0\n",
       "salary_currency       0\n",
       "salary_in_usd         0\n",
       "employee_residence    0\n",
       "remote_ratio          0\n",
       "company_location      0\n",
       "company_size          0\n",
       "dtype: int64"
      ]
     },
     "execution_count": 143,
     "metadata": {},
     "output_type": "execute_result"
    }
   ],
   "source": [
    "dataset_rusak_cleaned.isna().sum()"
   ]
  },
  {
   "cell_type": "markdown",
   "id": "674e06f4",
   "metadata": {},
   "source": [
    "Menghapus data yang memiliki duplikat dengan drop_duplicates. "
   ]
  },
  {
   "cell_type": "code",
   "execution_count": 144,
   "id": "94e0e857",
   "metadata": {},
   "outputs": [
    {
     "data": {
      "text/plain": [
       "85"
      ]
     },
     "execution_count": 144,
     "metadata": {},
     "output_type": "execute_result"
    }
   ],
   "source": [
    "dataset_rusak_cleaned.duplicated().sum()"
   ]
  },
  {
   "cell_type": "code",
   "execution_count": 145,
   "id": "9f4aaa88",
   "metadata": {},
   "outputs": [],
   "source": [
    "dataset_rusak_cleaned.drop_duplicates(inplace=True)"
   ]
  },
  {
   "cell_type": "code",
   "execution_count": 146,
   "id": "8b2e07de",
   "metadata": {},
   "outputs": [
    {
     "data": {
      "text/plain": [
       "0"
      ]
     },
     "execution_count": 146,
     "metadata": {},
     "output_type": "execute_result"
    }
   ],
   "source": [
    "dataset_rusak_cleaned.duplicated().sum()"
   ]
  },
  {
   "cell_type": "markdown",
   "id": "ac9a31b0",
   "metadata": {},
   "source": [
    "Mengganti tipe data salah satu attribute angka. disini pada kolom salary_in_usd yang awalnya bertipe float64 diganti menjadi int64"
   ]
  },
  {
   "cell_type": "code",
   "execution_count": 147,
   "id": "210a841c",
   "metadata": {},
   "outputs": [
    {
     "data": {
      "text/plain": [
       "dtype('float64')"
      ]
     },
     "execution_count": 147,
     "metadata": {},
     "output_type": "execute_result"
    }
   ],
   "source": [
    "dataset_rusak_cleaned['salary_in_usd'].dtype"
   ]
  },
  {
   "cell_type": "code",
   "execution_count": 148,
   "id": "3313abbd",
   "metadata": {},
   "outputs": [
    {
     "data": {
      "text/plain": [
       "0        63000\n",
       "1        95000\n",
       "2        70000\n",
       "3        48853\n",
       "4       120000\n",
       "         ...  \n",
       "1242     96422\n",
       "1243     82528\n",
       "1244    126000\n",
       "1245     57769\n",
       "1246     66310\n",
       "Name: salary_in_usd, Length: 1247, dtype: int64"
      ]
     },
     "execution_count": 148,
     "metadata": {},
     "output_type": "execute_result"
    }
   ],
   "source": [
    "dataset_utama['salary_in_usd'].astype('int64')"
   ]
  },
  {
   "cell_type": "markdown",
   "id": "d4576303",
   "metadata": {},
   "source": [
    "Membuat copy dataset_utama dengan memberi nama dataset_enc, untuk one hot encoding.\n",
    "menggunakan syntax pandas yaitu pd.get_dummies dengan dataset_enc dan kolom yang diambil adalah experience level."
   ]
  },
  {
   "cell_type": "code",
   "execution_count": 149,
   "id": "065b22a8",
   "metadata": {},
   "outputs": [],
   "source": [
    "dataset_enc = dataset_utama.copy()"
   ]
  },
  {
   "cell_type": "code",
   "execution_count": 150,
   "id": "2b75485b",
   "metadata": {},
   "outputs": [
    {
     "data": {
      "text/html": [
       "<div>\n",
       "<style scoped>\n",
       "    .dataframe tbody tr th:only-of-type {\n",
       "        vertical-align: middle;\n",
       "    }\n",
       "\n",
       "    .dataframe tbody tr th {\n",
       "        vertical-align: top;\n",
       "    }\n",
       "\n",
       "    .dataframe thead th {\n",
       "        text-align: right;\n",
       "    }\n",
       "</style>\n",
       "<table border=\"1\" class=\"dataframe\">\n",
       "  <thead>\n",
       "    <tr style=\"text-align: right;\">\n",
       "      <th></th>\n",
       "      <th>EN</th>\n",
       "      <th>EX</th>\n",
       "      <th>MI</th>\n",
       "      <th>SE</th>\n",
       "    </tr>\n",
       "  </thead>\n",
       "  <tbody>\n",
       "    <tr>\n",
       "      <th>0</th>\n",
       "      <td>1</td>\n",
       "      <td>0</td>\n",
       "      <td>0</td>\n",
       "      <td>0</td>\n",
       "    </tr>\n",
       "    <tr>\n",
       "      <th>1</th>\n",
       "      <td>0</td>\n",
       "      <td>0</td>\n",
       "      <td>1</td>\n",
       "      <td>0</td>\n",
       "    </tr>\n",
       "    <tr>\n",
       "      <th>2</th>\n",
       "      <td>0</td>\n",
       "      <td>0</td>\n",
       "      <td>1</td>\n",
       "      <td>0</td>\n",
       "    </tr>\n",
       "    <tr>\n",
       "      <th>3</th>\n",
       "      <td>0</td>\n",
       "      <td>0</td>\n",
       "      <td>1</td>\n",
       "      <td>0</td>\n",
       "    </tr>\n",
       "    <tr>\n",
       "      <th>4</th>\n",
       "      <td>1</td>\n",
       "      <td>0</td>\n",
       "      <td>0</td>\n",
       "      <td>0</td>\n",
       "    </tr>\n",
       "    <tr>\n",
       "      <th>...</th>\n",
       "      <td>...</td>\n",
       "      <td>...</td>\n",
       "      <td>...</td>\n",
       "      <td>...</td>\n",
       "    </tr>\n",
       "    <tr>\n",
       "      <th>1242</th>\n",
       "      <td>0</td>\n",
       "      <td>0</td>\n",
       "      <td>1</td>\n",
       "      <td>0</td>\n",
       "    </tr>\n",
       "    <tr>\n",
       "      <th>1243</th>\n",
       "      <td>0</td>\n",
       "      <td>0</td>\n",
       "      <td>0</td>\n",
       "      <td>1</td>\n",
       "    </tr>\n",
       "    <tr>\n",
       "      <th>1244</th>\n",
       "      <td>0</td>\n",
       "      <td>0</td>\n",
       "      <td>0</td>\n",
       "      <td>1</td>\n",
       "    </tr>\n",
       "    <tr>\n",
       "      <th>1245</th>\n",
       "      <td>0</td>\n",
       "      <td>0</td>\n",
       "      <td>1</td>\n",
       "      <td>0</td>\n",
       "    </tr>\n",
       "    <tr>\n",
       "      <th>1246</th>\n",
       "      <td>0</td>\n",
       "      <td>0</td>\n",
       "      <td>1</td>\n",
       "      <td>0</td>\n",
       "    </tr>\n",
       "  </tbody>\n",
       "</table>\n",
       "<p>1247 rows × 4 columns</p>\n",
       "</div>"
      ],
      "text/plain": [
       "      EN  EX  MI  SE\n",
       "0      1   0   0   0\n",
       "1      0   0   1   0\n",
       "2      0   0   1   0\n",
       "3      0   0   1   0\n",
       "4      1   0   0   0\n",
       "...   ..  ..  ..  ..\n",
       "1242   0   0   1   0\n",
       "1243   0   0   0   1\n",
       "1244   0   0   0   1\n",
       "1245   0   0   1   0\n",
       "1246   0   0   1   0\n",
       "\n",
       "[1247 rows x 4 columns]"
      ]
     },
     "execution_count": 150,
     "metadata": {},
     "output_type": "execute_result"
    }
   ],
   "source": [
    "pd.get_dummies(dataset_enc.experience_level)"
   ]
  }
 ],
 "metadata": {
  "kernelspec": {
   "display_name": "Python 3 (ipykernel)",
   "language": "python",
   "name": "python3"
  },
  "language_info": {
   "codemirror_mode": {
    "name": "ipython",
    "version": 3
   },
   "file_extension": ".py",
   "mimetype": "text/x-python",
   "name": "python",
   "nbconvert_exporter": "python",
   "pygments_lexer": "ipython3",
   "version": "3.10.7"
  }
 },
 "nbformat": 4,
 "nbformat_minor": 5
}
